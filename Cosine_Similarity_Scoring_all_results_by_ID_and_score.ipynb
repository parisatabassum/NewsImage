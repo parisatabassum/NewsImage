{
  "nbformat": 4,
  "nbformat_minor": 0,
  "metadata": {
    "colab": {
      "name": "Andres - Cosine Similarity Scoring.ipynb",
      "provenance": [],
      "collapsed_sections": []
    },
    "kernelspec": {
      "name": "python3",
      "display_name": "Python 3"
    },
    "language_info": {
      "name": "python"
    },
    "accelerator": "GPU"
  },
  "cells": [
    {
      "cell_type": "markdown",
      "metadata": {
        "id": "x_zmpdma1T7U"
      },
      "source": [
        "# Combining Both The Text-Classification and ResNet50 Model for Cosine Similarity Scoring"
      ]
    },
    {
      "cell_type": "code",
      "metadata": {
        "id": "Mx2tuhBBColE"
      },
      "source": [
        "!unzip FIREWHEEL-master.zip"
      ],
      "execution_count": null,
      "outputs": []
    },
    {
      "cell_type": "markdown",
      "metadata": {
        "id": "7UNm946j3TEt"
      },
      "source": [
        "# Text Classification Portion"
      ]
    },
    {
      "cell_type": "code",
      "metadata": {
        "id": "d45p8EAO1y3H"
      },
      "source": [
        "# Import Libraries\n",
        "import pandas as pd\n",
        "import numpy as np\n",
        "import matplotlib.pyplot as plt\n",
        "import keras\n",
        "import os\n",
        "import re\n",
        "import shutil\n",
        "import string\n",
        "import tensorflow as tf\n",
        "\n",
        "from tensorflow import keras\n",
        "from tensorflow.keras import layers\n",
        "from tensorflow.keras import losses\n",
        "from tensorflow.keras import preprocessing"
      ],
      "execution_count": 3,
      "outputs": []
    },
    {
      "cell_type": "code",
      "metadata": {
        "colab": {
          "base_uri": "https://localhost:8080/",
          "height": 419
        },
        "id": "npsgr3Px1zws",
        "outputId": "185184f9-8eda-4707-ea64-0de48ea7276c"
      },
      "source": [
        "# Load the data\n",
        "filepath = os.path.join(os.getcwd(),'FIREWHEEL-master', 'data' )\n",
        "\n",
        "dataframe1 = pd.read_csv(os.path.join(filepath, 'content2019-01-v3.tsv'), sep='\\t')\n",
        "dataframe1 = dataframe1.drop(columns=['article', 'aid', 'iid', 'hashvalue', 'nImpressions', 'nRecs', 'nClicks', 'img', 'imgFile'])\n",
        "\n",
        "dataframe2 = pd.read_csv(os.path.join(filepath, 'content2019-02-v3.tsv'), sep='\\t')\n",
        "dataframe2 = dataframe2.drop(columns=['article', 'aid', 'iid', 'hashvalue', 'nImpressions', 'nRecs', 'nClicks', 'img', 'imgFile'])\n",
        "\n",
        "dataframe3 = pd.read_csv(os.path.join(filepath, 'content2019-03-v3.tsv'), sep='\\t')\n",
        "dataframe3 = dataframe3.drop(columns=['article', 'aid', 'iid', 'hashvalue', 'nImpressions', 'nRecs', 'nClicks', 'img', 'imgFile'])\n",
        "\n",
        "# Combine the data into one dataframe\n",
        "dataframe = pd.concat([dataframe1, dataframe2, dataframe3], ignore_index=True)\n",
        "\n",
        "# Replace all the urls by their category\n",
        "# Iterate all the rows\n",
        "for index, row in dataframe.iterrows():\n",
        "    \n",
        "    # Split the 'url' by '/'\n",
        "    list_of_splits = row['url'].split('/')\n",
        "  \n",
        "    # Traverse the splits, looking for 'www.ksta.de'\n",
        "    for inner_index, word in enumerate(list_of_splits):\n",
        "        \n",
        "        # If the current word is the address...\n",
        "        if word == 'www.ksta.de':\n",
        "\n",
        "            # Replace row['url'] by what comes after (but remove the first occurrence of the '-' before doing so)\n",
        "            row['url'] = list_of_splits[inner_index + 1].replace('-', '', 1).split('-')[0]\n",
        "            break\n",
        "\n",
        "# Rename the url column to 'target'\n",
        "dataframe.rename(columns={'url': 'target'}, inplace=True)\n",
        "\n",
        "# Combine the title and text data into one column\n",
        "dataframe['textData'] = dataframe['title'] + ' ' + dataframe['text']\n",
        "dataframe.drop(columns=['title', 'text'], inplace=True)\n",
        "\n",
        "# Show some of the dataframe\n",
        "dataframe"
      ],
      "execution_count": 4,
      "outputs": [
        {
          "output_type": "execute_result",
          "data": {
            "text/html": [
              "<div>\n",
              "<style scoped>\n",
              "    .dataframe tbody tr th:only-of-type {\n",
              "        vertical-align: middle;\n",
              "    }\n",
              "\n",
              "    .dataframe tbody tr th {\n",
              "        vertical-align: top;\n",
              "    }\n",
              "\n",
              "    .dataframe thead th {\n",
              "        text-align: right;\n",
              "    }\n",
              "</style>\n",
              "<table border=\"1\" class=\"dataframe\">\n",
              "  <thead>\n",
              "    <tr style=\"text-align: right;\">\n",
              "      <th></th>\n",
              "      <th>target</th>\n",
              "      <th>textData</th>\n",
              "    </tr>\n",
              "  </thead>\n",
              "  <tbody>\n",
              "    <tr>\n",
              "      <th>0</th>\n",
              "      <td>panorama</td>\n",
              "      <td>Mann wird durch Böller schwer an der Hand verl...</td>\n",
              "    </tr>\n",
              "    <tr>\n",
              "      <th>1</th>\n",
              "      <td>wirtschaft</td>\n",
              "      <td>Wie der Kölner Daniel Opoku sein altes Leben h...</td>\n",
              "    </tr>\n",
              "    <tr>\n",
              "      <th>2</th>\n",
              "      <td>wirtschaft</td>\n",
              "      <td>„Wer auf Dauer im Beruf unglücklich ist, riski...</td>\n",
              "    </tr>\n",
              "    <tr>\n",
              "      <th>3</th>\n",
              "      <td>panorama</td>\n",
              "      <td>Sydneys Feuerwerks-Meister unterläuft peinlich...</td>\n",
              "    </tr>\n",
              "    <tr>\n",
              "      <th>4</th>\n",
              "      <td>politik</td>\n",
              "      <td>Kim Jong Un droht mit Abkehr vom Annäherungsku...</td>\n",
              "    </tr>\n",
              "    <tr>\n",
              "      <th>...</th>\n",
              "      <td>...</td>\n",
              "      <td>...</td>\n",
              "    </tr>\n",
              "    <tr>\n",
              "      <th>7525</th>\n",
              "      <td>region</td>\n",
              "      <td>Neue Gruppen in Containern Die Stadt bemüht si...</td>\n",
              "    </tr>\n",
              "    <tr>\n",
              "      <th>7526</th>\n",
              "      <td>region</td>\n",
              "      <td>Fahrbahnsanierung der Bahnhofstraße beginnt Di...</td>\n",
              "    </tr>\n",
              "    <tr>\n",
              "      <th>7527</th>\n",
              "      <td>nrw</td>\n",
              "      <td>Schwebebahn startet nach Unfall wieder Testfah...</td>\n",
              "    </tr>\n",
              "    <tr>\n",
              "      <th>7528</th>\n",
              "      <td>wirtschaft</td>\n",
              "      <td>Kein Ende der Krise bei Bayer in Sicht Ein Urt...</td>\n",
              "    </tr>\n",
              "    <tr>\n",
              "      <th>7529</th>\n",
              "      <td>koeln</td>\n",
              "      <td>Unfall am Südbahnhof - Linie 9 wird umgeleitet...</td>\n",
              "    </tr>\n",
              "  </tbody>\n",
              "</table>\n",
              "<p>7530 rows × 2 columns</p>\n",
              "</div>"
            ],
            "text/plain": [
              "          target                                           textData\n",
              "0       panorama  Mann wird durch Böller schwer an der Hand verl...\n",
              "1     wirtschaft  Wie der Kölner Daniel Opoku sein altes Leben h...\n",
              "2     wirtschaft  „Wer auf Dauer im Beruf unglücklich ist, riski...\n",
              "3       panorama  Sydneys Feuerwerks-Meister unterläuft peinlich...\n",
              "4        politik  Kim Jong Un droht mit Abkehr vom Annäherungsku...\n",
              "...          ...                                                ...\n",
              "7525      region  Neue Gruppen in Containern Die Stadt bemüht si...\n",
              "7526      region  Fahrbahnsanierung der Bahnhofstraße beginnt Di...\n",
              "7527         nrw  Schwebebahn startet nach Unfall wieder Testfah...\n",
              "7528  wirtschaft  Kein Ende der Krise bei Bayer in Sicht Ein Urt...\n",
              "7529       koeln  Unfall am Südbahnhof - Linie 9 wird umgeleitet...\n",
              "\n",
              "[7530 rows x 2 columns]"
            ]
          },
          "metadata": {},
          "execution_count": 4
        }
      ]
    },
    {
      "cell_type": "code",
      "metadata": {
        "colab": {
          "base_uri": "https://localhost:8080/",
          "height": 0
        },
        "id": "276lsNOm107o",
        "outputId": "94c0ff73-e214-4212-dedc-cf51093852e9"
      },
      "source": [
        "# Get individual columns from the dataframe\n",
        "target = dataframe['target']\n",
        "textData = dataframe['textData']\n",
        "\n",
        "# Create an encoder/decoder for 'target' categories\n",
        "# Encoder\n",
        "target_to_code = {}\n",
        "\n",
        "# Decoder\n",
        "code_to_target = {}\n",
        "\n",
        "for index, row in enumerate(target.unique()):\n",
        "    target_to_code[row] = index\n",
        "    code_to_target[index] = row\n",
        "\n",
        "# Map the target    \n",
        "encoded_target = target.map(target_to_code)\n",
        "print(encoded_target)\n",
        "\n",
        "# Check encoding/decoding\n",
        "print(\"encoded_target[1]:\", encoded_target[1])\n",
        "print(\"code_to_target[1]:\", code_to_target[1])"
      ],
      "execution_count": 5,
      "outputs": [
        {
          "output_type": "stream",
          "name": "stdout",
          "text": [
            "0        0\n",
            "1        1\n",
            "2        1\n",
            "3        0\n",
            "4        2\n",
            "        ..\n",
            "7525     4\n",
            "7526     4\n",
            "7527    10\n",
            "7528     1\n",
            "7529     3\n",
            "Name: target, Length: 7530, dtype: int64\n",
            "encoded_target[1]: 1\n",
            "code_to_target[1]: wirtschaft\n"
          ]
        }
      ]
    },
    {
      "cell_type": "code",
      "metadata": {
        "id": "hZEcu76416PH"
      },
      "source": [
        "# Vectorize the input data (and make a layer for it)\n",
        "\n",
        "# Custom function to covert all letters to lowercase and remove punctuation\n",
        "def custom_standardization(input_data):\n",
        "\n",
        "  # Convert the input data to lowercase\n",
        "  lowercase = tf.strings.lower(input_data)\n",
        "\n",
        "  # Remove punctuation\n",
        "  no_punctuation = tf.strings.regex_replace(lowercase, '[%s]' % re.escape(string.punctuation), '')\n",
        "\n",
        "  return no_punctuation\n",
        "\n",
        "# Maximum number of tokens to work with\n",
        "max_features = 10000\n",
        "\n",
        "# Maximum sequence to analyze\n",
        "sequence_length = 250\n",
        "\n",
        "# Make the vectorization layer\n",
        "vectorize_layer = layers.TextVectorization(\n",
        "    standardize = custom_standardization,\n",
        "    max_tokens = max_features,\n",
        "    output_mode = 'int',\n",
        "    output_sequence_length = sequence_length)\n",
        "\n",
        "# 'Fit' the vectorization layer to index words\n",
        "vectorize_layer.adapt(np.asarray(textData.astype(str)))"
      ],
      "execution_count": 6,
      "outputs": []
    },
    {
      "cell_type": "code",
      "metadata": {
        "id": "AHHW2Atn18Qm"
      },
      "source": [
        "# Convert the training data into a tensor\n",
        "train_textData = tf.convert_to_tensor(np.asarray(textData.astype(str)))"
      ],
      "execution_count": 7,
      "outputs": []
    },
    {
      "cell_type": "code",
      "metadata": {
        "colab": {
          "base_uri": "https://localhost:8080/",
          "height": 0
        },
        "id": "FuEkPFkX1_Zc",
        "outputId": "bd301aad-1e31-419b-d43f-487fe26e4234"
      },
      "source": [
        "# Construct the model\n",
        "embedding_dim = 16\n",
        "\n",
        "# Instantiate the model with the various layers\n",
        "text_classification_model = tf.keras.Sequential([\n",
        "  vectorize_layer,\n",
        "  layers.Embedding(10000 + 1, embedding_dim),\n",
        "  layers.Dropout(0.2),\n",
        "  layers.GlobalAveragePooling1D(),\n",
        "  layers.Dropout(0.2),\n",
        "  layers.Dense(70)])\n",
        "\n",
        "# Show a summary of the model\n",
        "print(text_classification_model.summary())\n",
        "\n",
        "# Compile the model\n",
        "text_classification_model.compile(loss=losses.SparseCategoricalCrossentropy(from_logits=True),\n",
        "              optimizer='adam',\n",
        "              metrics=['accuracy'])"
      ],
      "execution_count": 8,
      "outputs": [
        {
          "output_type": "stream",
          "name": "stdout",
          "text": [
            "Model: \"sequential\"\n",
            "_________________________________________________________________\n",
            "Layer (type)                 Output Shape              Param #   \n",
            "=================================================================\n",
            "text_vectorization (TextVect (None, 250)               0         \n",
            "_________________________________________________________________\n",
            "embedding (Embedding)        (None, 250, 16)           160016    \n",
            "_________________________________________________________________\n",
            "dropout (Dropout)            (None, 250, 16)           0         \n",
            "_________________________________________________________________\n",
            "global_average_pooling1d (Gl (None, 16)                0         \n",
            "_________________________________________________________________\n",
            "dropout_1 (Dropout)          (None, 16)                0         \n",
            "_________________________________________________________________\n",
            "dense (Dense)                (None, 70)                1190      \n",
            "=================================================================\n",
            "Total params: 161,206\n",
            "Trainable params: 161,206\n",
            "Non-trainable params: 0\n",
            "_________________________________________________________________\n",
            "None\n"
          ]
        }
      ]
    },
    {
      "cell_type": "code",
      "metadata": {
        "colab": {
          "base_uri": "https://localhost:8080/",
          "height": 0
        },
        "id": "tCzB0d412Acn",
        "outputId": "a8658ad1-d34f-4eff-8d52-f0ee780c5315"
      },
      "source": [
        "# Number of epochs to use in the training of the model\n",
        "epochs = 100\n",
        "\n",
        "# Fit the model (takes about 5 minutes on Google Colab)\n",
        "text_classification_model.fit(\n",
        "    x=train_textData,\n",
        "    y=encoded_target,\n",
        "    epochs=epochs # 100 total\n",
        ")"
      ],
      "execution_count": 9,
      "outputs": [
        {
          "output_type": "stream",
          "name": "stdout",
          "text": [
            "Epoch 1/100\n",
            "236/236 [==============================] - 5s 8ms/step - loss: 3.4364 - accuracy: 0.3189\n",
            "Epoch 2/100\n",
            "236/236 [==============================] - 2s 8ms/step - loss: 2.1602 - accuracy: 0.3263\n",
            "Epoch 3/100\n",
            "236/236 [==============================] - 2s 8ms/step - loss: 2.0661 - accuracy: 0.3263\n",
            "Epoch 4/100\n",
            "236/236 [==============================] - 2s 8ms/step - loss: 2.0517 - accuracy: 0.3263\n",
            "Epoch 5/100\n",
            "236/236 [==============================] - 2s 8ms/step - loss: 2.0459 - accuracy: 0.3263\n",
            "Epoch 6/100\n",
            "236/236 [==============================] - 2s 8ms/step - loss: 2.0380 - accuracy: 0.3263\n",
            "Epoch 7/100\n",
            "236/236 [==============================] - 2s 8ms/step - loss: 2.0396 - accuracy: 0.3263\n",
            "Epoch 8/100\n",
            "236/236 [==============================] - 2s 8ms/step - loss: 2.0361 - accuracy: 0.3263\n",
            "Epoch 9/100\n",
            "236/236 [==============================] - 2s 8ms/step - loss: 2.0330 - accuracy: 0.3263\n",
            "Epoch 10/100\n",
            "236/236 [==============================] - 2s 8ms/step - loss: 2.0328 - accuracy: 0.3263\n",
            "Epoch 11/100\n",
            "236/236 [==============================] - 2s 8ms/step - loss: 2.0321 - accuracy: 0.3263\n",
            "Epoch 12/100\n",
            "236/236 [==============================] - 2s 8ms/step - loss: 2.0278 - accuracy: 0.3263\n",
            "Epoch 13/100\n",
            "236/236 [==============================] - 2s 8ms/step - loss: 2.0258 - accuracy: 0.3263\n",
            "Epoch 14/100\n",
            "236/236 [==============================] - 2s 8ms/step - loss: 2.0220 - accuracy: 0.3263\n",
            "Epoch 15/100\n",
            "236/236 [==============================] - 2s 8ms/step - loss: 2.0165 - accuracy: 0.3263\n",
            "Epoch 16/100\n",
            "236/236 [==============================] - 2s 8ms/step - loss: 2.0159 - accuracy: 0.3263\n",
            "Epoch 17/100\n",
            "236/236 [==============================] - 2s 8ms/step - loss: 2.0094 - accuracy: 0.3264\n",
            "Epoch 18/100\n",
            "236/236 [==============================] - 2s 8ms/step - loss: 2.0060 - accuracy: 0.3263\n",
            "Epoch 19/100\n",
            "236/236 [==============================] - 2s 8ms/step - loss: 2.0027 - accuracy: 0.3263\n",
            "Epoch 20/100\n",
            "236/236 [==============================] - 2s 8ms/step - loss: 1.9970 - accuracy: 0.3264\n",
            "Epoch 21/100\n",
            "236/236 [==============================] - 2s 8ms/step - loss: 1.9887 - accuracy: 0.3266\n",
            "Epoch 22/100\n",
            "236/236 [==============================] - 2s 8ms/step - loss: 1.9804 - accuracy: 0.3263\n",
            "Epoch 23/100\n",
            "236/236 [==============================] - 2s 8ms/step - loss: 1.9776 - accuracy: 0.3270\n",
            "Epoch 24/100\n",
            "236/236 [==============================] - 2s 8ms/step - loss: 1.9627 - accuracy: 0.3295\n",
            "Epoch 25/100\n",
            "236/236 [==============================] - 2s 8ms/step - loss: 1.9534 - accuracy: 0.3305\n",
            "Epoch 26/100\n",
            "236/236 [==============================] - 2s 8ms/step - loss: 1.9417 - accuracy: 0.3359\n",
            "Epoch 27/100\n",
            "236/236 [==============================] - 2s 8ms/step - loss: 1.9314 - accuracy: 0.3425\n",
            "Epoch 28/100\n",
            "236/236 [==============================] - 2s 8ms/step - loss: 1.9143 - accuracy: 0.3506\n",
            "Epoch 29/100\n",
            "236/236 [==============================] - 2s 8ms/step - loss: 1.9047 - accuracy: 0.3582\n",
            "Epoch 30/100\n",
            "236/236 [==============================] - 2s 8ms/step - loss: 1.8856 - accuracy: 0.3628\n",
            "Epoch 31/100\n",
            "236/236 [==============================] - 2s 8ms/step - loss: 1.8662 - accuracy: 0.3741\n",
            "Epoch 32/100\n",
            "236/236 [==============================] - 2s 8ms/step - loss: 1.8455 - accuracy: 0.3777\n",
            "Epoch 33/100\n",
            "236/236 [==============================] - 2s 8ms/step - loss: 1.8306 - accuracy: 0.3874\n",
            "Epoch 34/100\n",
            "236/236 [==============================] - 2s 8ms/step - loss: 1.8139 - accuracy: 0.3918\n",
            "Epoch 35/100\n",
            "236/236 [==============================] - 2s 8ms/step - loss: 1.7878 - accuracy: 0.3988\n",
            "Epoch 36/100\n",
            "236/236 [==============================] - 2s 8ms/step - loss: 1.7679 - accuracy: 0.4098\n",
            "Epoch 37/100\n",
            "236/236 [==============================] - 2s 8ms/step - loss: 1.7506 - accuracy: 0.4135\n",
            "Epoch 38/100\n",
            "236/236 [==============================] - 2s 8ms/step - loss: 1.7225 - accuracy: 0.4231\n",
            "Epoch 39/100\n",
            "236/236 [==============================] - 2s 8ms/step - loss: 1.7037 - accuracy: 0.4268\n",
            "Epoch 40/100\n",
            "236/236 [==============================] - 2s 8ms/step - loss: 1.6814 - accuracy: 0.4388\n",
            "Epoch 41/100\n",
            "236/236 [==============================] - 2s 8ms/step - loss: 1.6605 - accuracy: 0.4475\n",
            "Epoch 42/100\n",
            "236/236 [==============================] - 2s 8ms/step - loss: 1.6377 - accuracy: 0.4509\n",
            "Epoch 43/100\n",
            "236/236 [==============================] - 2s 8ms/step - loss: 1.6095 - accuracy: 0.4659\n",
            "Epoch 44/100\n",
            "236/236 [==============================] - 2s 8ms/step - loss: 1.5848 - accuracy: 0.4760\n",
            "Epoch 45/100\n",
            "236/236 [==============================] - 2s 8ms/step - loss: 1.5679 - accuracy: 0.4845\n",
            "Epoch 46/100\n",
            "236/236 [==============================] - 2s 8ms/step - loss: 1.5399 - accuracy: 0.4920\n",
            "Epoch 47/100\n",
            "236/236 [==============================] - 2s 8ms/step - loss: 1.5167 - accuracy: 0.4999\n",
            "Epoch 48/100\n",
            "236/236 [==============================] - 2s 8ms/step - loss: 1.4936 - accuracy: 0.5104\n",
            "Epoch 49/100\n",
            "236/236 [==============================] - 2s 8ms/step - loss: 1.4711 - accuracy: 0.5307\n",
            "Epoch 50/100\n",
            "236/236 [==============================] - 2s 8ms/step - loss: 1.4489 - accuracy: 0.5336\n",
            "Epoch 51/100\n",
            "236/236 [==============================] - 2s 8ms/step - loss: 1.4261 - accuracy: 0.5478\n",
            "Epoch 52/100\n",
            "236/236 [==============================] - 2s 8ms/step - loss: 1.3997 - accuracy: 0.5641\n",
            "Epoch 53/100\n",
            "236/236 [==============================] - 2s 8ms/step - loss: 1.3719 - accuracy: 0.5688\n",
            "Epoch 54/100\n",
            "236/236 [==============================] - 2s 8ms/step - loss: 1.3478 - accuracy: 0.5831\n",
            "Epoch 55/100\n",
            "236/236 [==============================] - 2s 8ms/step - loss: 1.3247 - accuracy: 0.5999\n",
            "Epoch 56/100\n",
            "236/236 [==============================] - 2s 8ms/step - loss: 1.3014 - accuracy: 0.5996\n",
            "Epoch 57/100\n",
            "236/236 [==============================] - 2s 8ms/step - loss: 1.2780 - accuracy: 0.6153\n",
            "Epoch 58/100\n",
            "236/236 [==============================] - 2s 9ms/step - loss: 1.2535 - accuracy: 0.6287\n",
            "Epoch 59/100\n",
            "236/236 [==============================] - 2s 8ms/step - loss: 1.2301 - accuracy: 0.6329\n",
            "Epoch 60/100\n",
            "236/236 [==============================] - 2s 8ms/step - loss: 1.2042 - accuracy: 0.6408\n",
            "Epoch 61/100\n",
            "236/236 [==============================] - 2s 9ms/step - loss: 1.1848 - accuracy: 0.6474\n",
            "Epoch 62/100\n",
            "236/236 [==============================] - 2s 8ms/step - loss: 1.1609 - accuracy: 0.6610\n",
            "Epoch 63/100\n",
            "236/236 [==============================] - 2s 8ms/step - loss: 1.1421 - accuracy: 0.6645\n",
            "Epoch 64/100\n",
            "236/236 [==============================] - 2s 9ms/step - loss: 1.1254 - accuracy: 0.6676\n",
            "Epoch 65/100\n",
            "236/236 [==============================] - 2s 8ms/step - loss: 1.0973 - accuracy: 0.6797\n",
            "Epoch 66/100\n",
            "236/236 [==============================] - 2s 9ms/step - loss: 1.0825 - accuracy: 0.6846\n",
            "Epoch 67/100\n",
            "236/236 [==============================] - 2s 8ms/step - loss: 1.0607 - accuracy: 0.6916\n",
            "Epoch 68/100\n",
            "236/236 [==============================] - 2s 8ms/step - loss: 1.0388 - accuracy: 0.7015\n",
            "Epoch 69/100\n",
            "236/236 [==============================] - 2s 8ms/step - loss: 1.0245 - accuracy: 0.6996\n",
            "Epoch 70/100\n",
            "236/236 [==============================] - 2s 9ms/step - loss: 1.0054 - accuracy: 0.7142\n",
            "Epoch 71/100\n",
            "236/236 [==============================] - 2s 8ms/step - loss: 0.9812 - accuracy: 0.7247\n",
            "Epoch 72/100\n",
            "236/236 [==============================] - 2s 9ms/step - loss: 0.9731 - accuracy: 0.7239\n",
            "Epoch 73/100\n",
            "236/236 [==============================] - 2s 9ms/step - loss: 0.9519 - accuracy: 0.7360\n",
            "Epoch 74/100\n",
            "236/236 [==============================] - 2s 9ms/step - loss: 0.9364 - accuracy: 0.7333\n",
            "Epoch 75/100\n",
            "236/236 [==============================] - 2s 9ms/step - loss: 0.9249 - accuracy: 0.7434\n",
            "Epoch 76/100\n",
            "236/236 [==============================] - 2s 9ms/step - loss: 0.9036 - accuracy: 0.7450\n",
            "Epoch 77/100\n",
            "236/236 [==============================] - 2s 9ms/step - loss: 0.8878 - accuracy: 0.7509\n",
            "Epoch 78/100\n",
            "236/236 [==============================] - 2s 8ms/step - loss: 0.8779 - accuracy: 0.7575\n",
            "Epoch 79/100\n",
            "236/236 [==============================] - 2s 8ms/step - loss: 0.8569 - accuracy: 0.7641\n",
            "Epoch 80/100\n",
            "236/236 [==============================] - 2s 9ms/step - loss: 0.8475 - accuracy: 0.7687\n",
            "Epoch 81/100\n",
            "236/236 [==============================] - 2s 8ms/step - loss: 0.8331 - accuracy: 0.7758\n",
            "Epoch 82/100\n",
            "236/236 [==============================] - 2s 9ms/step - loss: 0.8166 - accuracy: 0.7823\n",
            "Epoch 83/100\n",
            "236/236 [==============================] - 2s 9ms/step - loss: 0.8027 - accuracy: 0.7833\n",
            "Epoch 84/100\n",
            "236/236 [==============================] - 2s 8ms/step - loss: 0.7931 - accuracy: 0.7858\n",
            "Epoch 85/100\n",
            "236/236 [==============================] - 2s 9ms/step - loss: 0.7785 - accuracy: 0.7948\n",
            "Epoch 86/100\n",
            "236/236 [==============================] - 2s 8ms/step - loss: 0.7622 - accuracy: 0.7992\n",
            "Epoch 87/100\n",
            "236/236 [==============================] - 2s 8ms/step - loss: 0.7549 - accuracy: 0.7984\n",
            "Epoch 88/100\n",
            "236/236 [==============================] - 2s 8ms/step - loss: 0.7412 - accuracy: 0.8015\n",
            "Epoch 89/100\n",
            "236/236 [==============================] - 2s 8ms/step - loss: 0.7234 - accuracy: 0.8101\n",
            "Epoch 90/100\n",
            "236/236 [==============================] - 2s 8ms/step - loss: 0.7144 - accuracy: 0.8080\n",
            "Epoch 91/100\n",
            "236/236 [==============================] - 2s 8ms/step - loss: 0.6961 - accuracy: 0.8195\n",
            "Epoch 92/100\n",
            "236/236 [==============================] - 2s 8ms/step - loss: 0.6973 - accuracy: 0.8179\n",
            "Epoch 93/100\n",
            "236/236 [==============================] - 2s 8ms/step - loss: 0.6706 - accuracy: 0.8256\n",
            "Epoch 94/100\n",
            "236/236 [==============================] - 2s 8ms/step - loss: 0.6705 - accuracy: 0.8238\n",
            "Epoch 95/100\n",
            "236/236 [==============================] - 2s 8ms/step - loss: 0.6530 - accuracy: 0.8311\n",
            "Epoch 96/100\n",
            "236/236 [==============================] - 2s 9ms/step - loss: 0.6439 - accuracy: 0.8359\n",
            "Epoch 97/100\n",
            "236/236 [==============================] - 2s 8ms/step - loss: 0.6288 - accuracy: 0.8393\n",
            "Epoch 98/100\n",
            "236/236 [==============================] - 2s 8ms/step - loss: 0.6177 - accuracy: 0.8421\n",
            "Epoch 99/100\n",
            "236/236 [==============================] - 2s 8ms/step - loss: 0.6116 - accuracy: 0.8418\n",
            "Epoch 100/100\n",
            "236/236 [==============================] - 2s 8ms/step - loss: 0.6037 - accuracy: 0.8482\n"
          ]
        },
        {
          "output_type": "execute_result",
          "data": {
            "text/plain": [
              "<keras.callbacks.History at 0x7fd1e0be0a50>"
            ]
          },
          "metadata": {},
          "execution_count": 9
        }
      ]
    },
    {
      "cell_type": "code",
      "metadata": {
        "colab": {
          "base_uri": "https://localhost:8080/"
        },
        "id": "o9UmCwi0UwZZ",
        "outputId": "b077fea2-19c0-4ef6-8ea9-1aa3a5f73074"
      },
      "source": [
        "text_classification_model.save('/text_classification_model_TPU', save_format='tf')"
      ],
      "execution_count": null,
      "outputs": [
        {
          "output_type": "stream",
          "name": "stdout",
          "text": [
            "INFO:tensorflow:Assets written to: /text_classification_model/assets\n"
          ]
        }
      ]
    },
    {
      "cell_type": "code",
      "metadata": {
        "id": "NOszXjz62BYm"
      },
      "source": [
        "# Check that the model works with the testing data\n",
        "\n",
        "# Get the directory path of the testing data\n",
        "filepath = os.path.join(os.getcwd(),'FIREWHEEL-master', 'data' )\n",
        "\n",
        "# Load the testing data and drop the appropriate columns\n",
        "testDataframe = pd.read_csv(os.path.join(filepath, 'MediaEvalNewsImagesBatch04articles.tsv'), sep='\\t')\n",
        "testDataframe = testDataframe.drop(columns=['Unnamed: 4', 'Unnamed: 3', 'articleID', 'url', 'aid', 'hashvalue', 'nImpressions', 'nRecs', 'nClicks'])\n",
        "\n",
        "# Combine the title and text data into one column\n",
        "testDataframe['textData'] = testDataframe['title'] + ' ' + testDataframe['text']\n",
        "testDataframe.drop(columns=['title', 'text'], inplace=True)\n",
        "\n",
        "# Check that the testing data looks as it should\n",
        "testDataframe\n",
        "\n",
        "# Covert the testing data into a tensor\n",
        "testDataframe_tensor = tf.convert_to_tensor(np.asarray(testDataframe.astype(str)))"
      ],
      "execution_count": 10,
      "outputs": []
    },
    {
      "cell_type": "code",
      "metadata": {
        "colab": {
          "base_uri": "https://localhost:8080/",
          "height": 0
        },
        "id": "VoBNV_HJ2Cg8",
        "outputId": "dd0af6f2-26bb-4d6f-ccda-7893f5895968"
      },
      "source": [
        "# Predict from the trained model\n",
        "prediction = text_classification_model.predict(testDataframe_tensor[0])\n",
        "print('pred:\\n', prediction)\n",
        "\n",
        "# Get the index of the maximum category\n",
        "index_of_max_prediction = tf.argmax(prediction, axis=1)\n",
        "print('ind:\\n', index_of_max_prediction)"
      ],
      "execution_count": 11,
      "outputs": [
        {
          "output_type": "stream",
          "name": "stdout",
          "text": [
            "pred:\n",
            " [[ 4.66456     0.11148077  1.569925    1.2951677   0.7283055   2.5972145\n",
            "  -4.142716    0.12528448  0.34255397 -1.5581056   1.1063657  -4.8214087\n",
            "  -4.407771   -4.565612   -4.3368716  -4.252352   -4.176035   -4.554289\n",
            "  -4.570456   -4.5268097  -4.554048   -4.3315153  -3.4176009  -4.2183595\n",
            "  -4.429091   -4.1583457  -4.4368477  -4.2319717  -4.6364083  -4.5709796\n",
            "  -4.351201   -4.4193115  -4.1378303  -4.215995   -4.5371733  -4.5869365\n",
            "  -4.406113   -3.9738464  -4.3489184  -4.087402   -4.3144307  -4.292405\n",
            "  -3.9475756  -4.1290393  -4.2610636  -4.6544366  -4.3999763  -4.148087\n",
            "  -4.792323   -4.385519   -4.351776   -4.399864   -4.7461643  -4.262672\n",
            "  -4.3418202  -4.197761   -4.1430187  -4.237104   -4.95713    -3.964203\n",
            "  -4.1190224  -4.2376957  -4.7127028  -4.335073   -4.360735   -4.358054\n",
            "  -4.603746   -4.30929    -3.08144    -4.453517  ]]\n",
            "ind:\n",
            " tf.Tensor([0], shape=(1,), dtype=int64)\n"
          ]
        }
      ]
    },
    {
      "cell_type": "code",
      "metadata": {
        "colab": {
          "base_uri": "https://localhost:8080/",
          "height": 35
        },
        "id": "c_utdFLqh8G5",
        "outputId": "7dae033a-6535-4a4d-d2fb-a5b670f8ecbb"
      },
      "source": [
        "code_to_target[0]"
      ],
      "execution_count": 12,
      "outputs": [
        {
          "output_type": "execute_result",
          "data": {
            "application/vnd.google.colaboratory.intrinsic+json": {
              "type": "string"
            },
            "text/plain": [
              "'panorama'"
            ]
          },
          "metadata": {},
          "execution_count": 12
        }
      ]
    },
    {
      "cell_type": "code",
      "metadata": {
        "colab": {
          "base_uri": "https://localhost:8080/",
          "height": 0
        },
        "id": "p6C8RInLmMj1",
        "outputId": "699f4c58-4f3a-402f-b58f-721c73e9e316"
      },
      "source": [
        "def predict_text_and_title_category_from_text_classification_model(tensor_index):\n",
        "    print(testDataframe.iloc[tensor_index])\n",
        "    return text_classification_model.predict(testDataframe_tensor[tensor_index])\n",
        "\n",
        "prediction = predict_text_and_title_category_from_text_classification_model(0)\n",
        "print('pred:\\n', prediction)\n",
        "\n",
        "# Get the index of the maximum category\n",
        "index_of_max_prediction = tf.argmax(prediction, axis=1)\n",
        "print('ind:\\n', index_of_max_prediction)"
      ],
      "execution_count": 13,
      "outputs": [
        {
          "output_type": "stream",
          "name": "stdout",
          "text": [
            "textData    Trainspotting-Star auf offener Straße erschoss...\n",
            "Name: 0, dtype: object\n",
            "pred:\n",
            " [[ 4.66456     0.11148077  1.569925    1.2951677   0.7283055   2.5972145\n",
            "  -4.142716    0.12528448  0.34255397 -1.5581056   1.1063657  -4.8214087\n",
            "  -4.407771   -4.565612   -4.3368716  -4.252352   -4.176035   -4.554289\n",
            "  -4.570456   -4.5268097  -4.554048   -4.3315153  -3.4176009  -4.2183595\n",
            "  -4.429091   -4.1583457  -4.4368477  -4.2319717  -4.6364083  -4.5709796\n",
            "  -4.351201   -4.4193115  -4.1378303  -4.215995   -4.5371733  -4.5869365\n",
            "  -4.406113   -3.9738464  -4.3489184  -4.087402   -4.3144307  -4.292405\n",
            "  -3.9475756  -4.1290393  -4.2610636  -4.6544366  -4.3999763  -4.148087\n",
            "  -4.792323   -4.385519   -4.351776   -4.399864   -4.7461643  -4.262672\n",
            "  -4.3418202  -4.197761   -4.1430187  -4.237104   -4.95713    -3.964203\n",
            "  -4.1190224  -4.2376957  -4.7127028  -4.335073   -4.360735   -4.358054\n",
            "  -4.603746   -4.30929    -3.08144    -4.453517  ]]\n",
            "ind:\n",
            " tf.Tensor([0], shape=(1,), dtype=int64)\n"
          ]
        }
      ]
    },
    {
      "cell_type": "markdown",
      "metadata": {
        "id": "vfzEWtwU301R"
      },
      "source": [
        "# ResNet50 Categorization Portion\n"
      ]
    },
    {
      "cell_type": "code",
      "metadata": {
        "id": "4vU7327y3vKi"
      },
      "source": [
        "# Import libraries\n",
        "import numpy as np\n",
        "import pandas as pd\n",
        "import matplotlib.pyplot as plt\n",
        "import keras\n",
        "import os\n",
        "\n",
        "import tensorflow as tf\n",
        "import tensorflow.keras as K\n",
        "\n",
        "from tensorflow import keras\n",
        "from tensorflow.keras.preprocessing import image_dataset_from_directory\n",
        "from keras.preprocessing.image import image, img_to_array\n",
        "from keras.applications.resnet import ResNet50, preprocess_input, decode_predictions"
      ],
      "execution_count": 14,
      "outputs": []
    },
    {
      "cell_type": "code",
      "metadata": {
        "colab": {
          "base_uri": "https://localhost:8080/",
          "height": 419
        },
        "id": "8pGz9Feo5Ezt",
        "outputId": "d5d10cee-1f58-4d1d-e1c5-3f132eb9c9c9"
      },
      "source": [
        "# Load the data\n",
        "filepath = os.path.join(os.getcwd(),'FIREWHEEL-master', 'data' )\n",
        "\n",
        "dataframe1 = pd.read_csv(os.path.join(filepath, 'content2019-01-v3.tsv'), sep='\\t')\n",
        "dataframe1 = dataframe1.drop(columns=['article', 'aid', 'iid', 'hashvalue', 'nImpressions', 'nRecs', 'nClicks', 'img', 'title', 'text'])\n",
        "\n",
        "dataframe2 = pd.read_csv(os.path.join(filepath, 'content2019-02-v3.tsv'), sep='\\t')\n",
        "dataframe2 = dataframe2.drop(columns=['article', 'aid', 'iid', 'hashvalue', 'nImpressions', 'nRecs', 'nClicks', 'img', 'title', 'text'])\n",
        "\n",
        "dataframe3 = pd.read_csv(os.path.join(filepath, 'content2019-03-v3.tsv'), sep='\\t')\n",
        "dataframe3 = dataframe3.drop(columns=['article', 'aid', 'iid', 'hashvalue', 'nImpressions', 'nRecs', 'nClicks', 'img', 'title', 'text'])\n",
        "\n",
        "# Combine the data into one dataframe\n",
        "dataframe = pd.concat([dataframe1, dataframe2, dataframe3], ignore_index=True)\n",
        "\n",
        "# Convert 'url' column to just the category\n",
        "# Iterate all the rows\n",
        "for index, row in dataframe.iterrows():\n",
        "    \n",
        "    # Split the 'url' by '/'\n",
        "    list_of_splits = row['url'].split('/')\n",
        "  \n",
        "    # Traverse the splits, looking for 'www.ksta.de'\n",
        "    for inner_index, word in enumerate(list_of_splits):\n",
        "        if word == 'www.ksta.de':\n",
        "            # Replace row['url'] by what comes after (but remove the first occurrence of the '-' before doing so)\n",
        "            row['url'] = list_of_splits[inner_index + 1].replace('-', '', 1).split('-')[0]\n",
        "            break\n",
        "\n",
        "# Rename the url column to 'target'\n",
        "dataframe.rename(columns={'url': 'target'}, inplace=True)\n",
        "\n",
        "dataframe"
      ],
      "execution_count": 15,
      "outputs": [
        {
          "output_type": "execute_result",
          "data": {
            "text/html": [
              "<div>\n",
              "<style scoped>\n",
              "    .dataframe tbody tr th:only-of-type {\n",
              "        vertical-align: middle;\n",
              "    }\n",
              "\n",
              "    .dataframe tbody tr th {\n",
              "        vertical-align: top;\n",
              "    }\n",
              "\n",
              "    .dataframe thead th {\n",
              "        text-align: right;\n",
              "    }\n",
              "</style>\n",
              "<table border=\"1\" class=\"dataframe\">\n",
              "  <thead>\n",
              "    <tr style=\"text-align: right;\">\n",
              "      <th></th>\n",
              "      <th>target</th>\n",
              "      <th>imgFile</th>\n",
              "    </tr>\n",
              "  </thead>\n",
              "  <tbody>\n",
              "    <tr>\n",
              "      <th>0</th>\n",
              "      <td>panorama</td>\n",
              "      <td>31811446c816ac031a5a0b3add7d47a3813aec62rC.jpg</td>\n",
              "    </tr>\n",
              "    <tr>\n",
              "      <th>1</th>\n",
              "      <td>wirtschaft</td>\n",
              "      <td>3180830885ee043d58cd779d33cca388888e6b57vZ.jpg</td>\n",
              "    </tr>\n",
              "    <tr>\n",
              "      <th>2</th>\n",
              "      <td>wirtschaft</td>\n",
              "      <td>31808358806096e3c65a13dcfd59cde588e7eb0auc.jpg</td>\n",
              "    </tr>\n",
              "    <tr>\n",
              "      <th>3</th>\n",
              "      <td>panorama</td>\n",
              "      <td>31811494cf18c73a2fa30f16a949044c88b9beZx.jpg</td>\n",
              "    </tr>\n",
              "    <tr>\n",
              "      <th>4</th>\n",
              "      <td>politik</td>\n",
              "      <td>3181155429c50be85cf894763325d201ab241bc6oS.jpg</td>\n",
              "    </tr>\n",
              "    <tr>\n",
              "      <th>...</th>\n",
              "      <td>...</td>\n",
              "      <td>...</td>\n",
              "    </tr>\n",
              "    <tr>\n",
              "      <th>7525</th>\n",
              "      <td>region</td>\n",
              "      <td>322924547dc6683905a45c8456135b2d398e8edaKj.jpg</td>\n",
              "    </tr>\n",
              "    <tr>\n",
              "      <th>7526</th>\n",
              "      <td>region</td>\n",
              "      <td>32292576fc9b03f6d5c9c4cc9d0522832a760043Xj.jpg</td>\n",
              "    </tr>\n",
              "    <tr>\n",
              "      <th>7527</th>\n",
              "      <td>nrw</td>\n",
              "      <td>3228964244ba8985267cc39780cf4274488897a6IR.jpg</td>\n",
              "    </tr>\n",
              "    <tr>\n",
              "      <th>7528</th>\n",
              "      <td>wirtschaft</td>\n",
              "      <td>32292986c70c98472372d1ec08cad6ca7470a0eRT.jpg</td>\n",
              "    </tr>\n",
              "    <tr>\n",
              "      <th>7529</th>\n",
              "      <td>koeln</td>\n",
              "      <td>3229302821bfe9f25bed4c28c7f190f8b30b065frU.jpg</td>\n",
              "    </tr>\n",
              "  </tbody>\n",
              "</table>\n",
              "<p>7530 rows × 2 columns</p>\n",
              "</div>"
            ],
            "text/plain": [
              "          target                                         imgFile\n",
              "0       panorama  31811446c816ac031a5a0b3add7d47a3813aec62rC.jpg\n",
              "1     wirtschaft  3180830885ee043d58cd779d33cca388888e6b57vZ.jpg\n",
              "2     wirtschaft  31808358806096e3c65a13dcfd59cde588e7eb0auc.jpg\n",
              "3       panorama    31811494cf18c73a2fa30f16a949044c88b9beZx.jpg\n",
              "4        politik  3181155429c50be85cf894763325d201ab241bc6oS.jpg\n",
              "...          ...                                             ...\n",
              "7525      region  322924547dc6683905a45c8456135b2d398e8edaKj.jpg\n",
              "7526      region  32292576fc9b03f6d5c9c4cc9d0522832a760043Xj.jpg\n",
              "7527         nrw  3228964244ba8985267cc39780cf4274488897a6IR.jpg\n",
              "7528  wirtschaft   32292986c70c98472372d1ec08cad6ca7470a0eRT.jpg\n",
              "7529       koeln  3229302821bfe9f25bed4c28c7f190f8b30b065frU.jpg\n",
              "\n",
              "[7530 rows x 2 columns]"
            ]
          },
          "metadata": {},
          "execution_count": 15
        }
      ]
    },
    {
      "cell_type": "code",
      "metadata": {
        "id": "pF5kNYqp5r-t"
      },
      "source": [
        "# Load images from datasets\n",
        "images_from_dataframes = []\n",
        "images_not_found = 0\n",
        "\n",
        "# For every row in the dataframe\n",
        "for index, row in dataframe.iterrows():\n",
        "    \n",
        "    imageFound = False\n",
        "\n",
        "    # Try loading an image from directory 1\n",
        "    try: # From Directory '1'\n",
        "        \n",
        "        # Get the directory of the images\n",
        "        filepath = os.path.join(os.getcwd(),'FIREWHEEL-master', 'Pictures', 'Pictures', '1', row['imgFile'])\n",
        "\n",
        "        # Load the image\n",
        "        this_image = image.load_img(\n",
        "            filepath,\n",
        "            color_mode='rgb',\n",
        "            target_size=(32, 32)\n",
        "        )\n",
        "        \n",
        "        # Append the image to the list of images\n",
        "        images_from_dataframes.append((this_image, row['imgFile'], row['target']))\n",
        "\n",
        "        imageFound = True\n",
        "        \n",
        "    except:\n",
        "\n",
        "        pass\n",
        "    \n",
        "\n",
        "    if not imageFound:\n",
        "        # Try loading an image from directory 2\n",
        "        try: # From Directory '1'\n",
        "            \n",
        "            # Get the directory of the images\n",
        "            filepath = os.path.join(os.getcwd(),'FIREWHEEL-master', 'Pictures', 'Pictures', '2', row['imgFile'])\n",
        "\n",
        "            # Load the image\n",
        "            this_image = image.load_img(\n",
        "                filepath,\n",
        "                color_mode='rgb',\n",
        "                target_size=(32, 32)\n",
        "            )\n",
        "            \n",
        "            # Append the image to the list of images\n",
        "            images_from_dataframes.append((this_image, row['imgFile'], row['target']))\n",
        "            \n",
        "            imageFound = True\n",
        "\n",
        "        except:\n",
        "\n",
        "            pass\n",
        "\n",
        "    if not imageFound:\n",
        "        # Try loading an image from directory 3\n",
        "        try: # From Directory '1'\n",
        "            \n",
        "            # Get the directory of the images\n",
        "            filepath = os.path.join(os.getcwd(),'FIREWHEEL-master', 'Pictures', 'Pictures', '3', row['imgFile'])\n",
        "\n",
        "            # Load the image\n",
        "            this_image = image.load_img(\n",
        "                filepath,\n",
        "                color_mode='rgb',\n",
        "                target_size=(32, 32)\n",
        "            )\n",
        "            \n",
        "            # Append the image to the list of images\n",
        "            images_from_dataframes.append((this_image, row['imgFile'], row['target']))\n",
        "            \n",
        "            imageFound = True\n",
        "\n",
        "        except:\n",
        "\n",
        "            pass\n",
        "\n",
        "# Make a new dataframe with the images\n",
        "resnet_training_data = pd.DataFrame(data=images_from_dataframes, columns=['image', 'imgFile', 'target'])\n",
        "\n",
        "resnet_training_images = resnet_training_data['image']\n",
        "resnet_training_target = resnet_training_data['target']"
      ],
      "execution_count": 16,
      "outputs": []
    },
    {
      "cell_type": "code",
      "metadata": {
        "id": "dIY1TwUe-uJ-"
      },
      "source": [
        "# Construct the training set as ResNet50 expects it\n",
        "resnet_training_images_input_tensor = []\n",
        "\n",
        "for index, row in resnet_training_images.iteritems():\n",
        "    resnet_training_images_input_tensor.append(tf.keras.utils.img_to_array(row))\n",
        "    \n",
        "resnet_training_images_input_tensor = np.asarray(resnet_training_images_input_tensor)"
      ],
      "execution_count": 17,
      "outputs": []
    },
    {
      "cell_type": "code",
      "metadata": {
        "id": "xTEhCzgvE5jS"
      },
      "source": [
        "# Encode the target\n",
        "resnet_training_encoded_target = []\n",
        "\n",
        "for row in resnet_training_target:\n",
        "    resnet_training_encoded_target.append(target_to_code.get(row))\n",
        "    \n",
        "resnet_training_encoded_target = K.utils.to_categorical(resnet_training_encoded_target, 70)"
      ],
      "execution_count": 18,
      "outputs": []
    },
    {
      "cell_type": "code",
      "metadata": {
        "id": "gVvpgH4I_b9P",
        "colab": {
          "base_uri": "https://localhost:8080/",
          "height": 0
        },
        "outputId": "dd461014-2d1c-448b-fae9-e0522256f921"
      },
      "source": [
        "# Construct our model\n",
        "\n",
        "# Construct the input layer\n",
        "input_tensor = K.Input(shape=(32, 32, 3))\n",
        "\n",
        "# Instantiate our model\n",
        "resnet50_model = K.applications.ResNet50(include_top=False, weights='imagenet', input_tensor=input_tensor)\n",
        "\n",
        "# Turn off the bulk of ResNet50 so that it remains unmodified\n",
        "for layer in resnet50_model.layers[:143]:\n",
        "    layer.trainable = False\n",
        "\n",
        "# Build the NEW model\n",
        "# Size to convert images to\n",
        "to_res = (32, 32)\n",
        "\n",
        "# Build the NEW model\n",
        "retrained_resnet50_model = K.models.Sequential()\n",
        "\n",
        "# Add an input layer\n",
        "retrained_resnet50_model.add(K.layers.Lambda(lambda image: tf.image.resize(image, to_res)))\n",
        "\n",
        "# Add the ResNet50 model!\n",
        "retrained_resnet50_model.add(resnet50_model)\n",
        "\n",
        "# Add layers that lead to the end\n",
        "retrained_resnet50_model.add(K.layers.Flatten())\n",
        "retrained_resnet50_model.add(K.layers.BatchNormalization())\n",
        "retrained_resnet50_model.add(K.layers.Dense(256, activation='relu'))\n",
        "retrained_resnet50_model.add(K.layers.Dropout(0.5))\n",
        "retrained_resnet50_model.add(K.layers.BatchNormalization())\n",
        "retrained_resnet50_model.add(K.layers.Dense(128, activation='relu'))\n",
        "retrained_resnet50_model.add(K.layers.Dropout(0.5))\n",
        "retrained_resnet50_model.add(K.layers.BatchNormalization())\n",
        "retrained_resnet50_model.add(K.layers.Dense(70, activation='softmax')) # Final encoded output layer\n",
        "\n",
        "# Check the progress of the training\n",
        "check_point = K.callbacks.ModelCheckpoint(filepath='imagenet_firewheel.h5',\n",
        "                                          monitor='val_acc',\n",
        "                                          mode='max',\n",
        "                                          save_best_only=True)\n",
        "\n",
        "# Compile the model\n",
        "retrained_resnet50_model.compile(loss='categorical_crossentropy',\n",
        "              optimizer=K.optimizers.RMSprop(learning_rate=2e-5),\n",
        "              metrics=['accuracy'])\n"
      ],
      "execution_count": 19,
      "outputs": [
        {
          "output_type": "stream",
          "name": "stdout",
          "text": [
            "Downloading data from https://storage.googleapis.com/tensorflow/keras-applications/resnet/resnet50_weights_tf_dim_ordering_tf_kernels_notop.h5\n",
            "94773248/94765736 [==============================] - 1s 0us/step\n",
            "94781440/94765736 [==============================] - 1s 0us/step\n"
          ]
        }
      ]
    },
    {
      "cell_type": "code",
      "metadata": {
        "colab": {
          "base_uri": "https://localhost:8080/",
          "height": 0
        },
        "id": "4rfWyYhBAcgf",
        "outputId": "49a953e0-7dbd-4f93-a0f1-7a8b539e3f73"
      },
      "source": [
        "# Fit the model (takes about 45 minutes on Google Colab)\n",
        "retrained_resnet50_model.fit(\n",
        "    x=resnet_training_images_input_tensor,\n",
        "    y=resnet_training_encoded_target,\n",
        "    batch_size=32,\n",
        "    epochs = 10,\n",
        "    callbacks=[check_point]\n",
        ")"
      ],
      "execution_count": 20,
      "outputs": [
        {
          "output_type": "stream",
          "name": "stdout",
          "text": [
            "Epoch 1/10\n",
            "233/233 [==============================] - 50s 63ms/step - loss: 4.8448 - accuracy: 0.0157\n",
            "WARNING:tensorflow:Can save best model only with val_acc available, skipping.\n",
            "Epoch 2/10\n",
            "233/233 [==============================] - 14s 61ms/step - loss: 4.7404 - accuracy: 0.0201\n",
            "WARNING:tensorflow:Can save best model only with val_acc available, skipping.\n",
            "Epoch 3/10\n",
            "233/233 [==============================] - 14s 60ms/step - loss: 4.6788 - accuracy: 0.0227\n",
            "WARNING:tensorflow:Can save best model only with val_acc available, skipping.\n",
            "Epoch 4/10\n",
            "233/233 [==============================] - 14s 61ms/step - loss: 4.5814 - accuracy: 0.0308\n",
            "WARNING:tensorflow:Can save best model only with val_acc available, skipping.\n",
            "Epoch 5/10\n",
            "233/233 [==============================] - 14s 60ms/step - loss: 4.4994 - accuracy: 0.0409\n",
            "WARNING:tensorflow:Can save best model only with val_acc available, skipping.\n",
            "Epoch 6/10\n",
            "233/233 [==============================] - 14s 60ms/step - loss: 4.4192 - accuracy: 0.0524\n",
            "WARNING:tensorflow:Can save best model only with val_acc available, skipping.\n",
            "Epoch 7/10\n",
            "233/233 [==============================] - 14s 60ms/step - loss: 4.3151 - accuracy: 0.0674\n",
            "WARNING:tensorflow:Can save best model only with val_acc available, skipping.\n",
            "Epoch 8/10\n",
            "233/233 [==============================] - 14s 60ms/step - loss: 4.2215 - accuracy: 0.0871\n",
            "WARNING:tensorflow:Can save best model only with val_acc available, skipping.\n",
            "Epoch 9/10\n",
            "233/233 [==============================] - 14s 60ms/step - loss: 4.1358 - accuracy: 0.1074\n",
            "WARNING:tensorflow:Can save best model only with val_acc available, skipping.\n",
            "Epoch 10/10\n",
            "233/233 [==============================] - 14s 61ms/step - loss: 4.0554 - accuracy: 0.1248\n",
            "WARNING:tensorflow:Can save best model only with val_acc available, skipping.\n"
          ]
        },
        {
          "output_type": "execute_result",
          "data": {
            "text/plain": [
              "<keras.callbacks.History at 0x7fd1ddeba110>"
            ]
          },
          "metadata": {},
          "execution_count": 20
        }
      ]
    },
    {
      "cell_type": "code",
      "metadata": {
        "id": "aWVDi47smj3l"
      },
      "source": [
        "!mkdir model"
      ],
      "execution_count": null,
      "outputs": []
    },
    {
      "cell_type": "code",
      "metadata": {
        "colab": {
          "base_uri": "https://localhost:8080/"
        },
        "id": "nzzLkxkFkpY4",
        "outputId": "54f02e83-dfb2-44ab-9531-7a4e239fdd0d"
      },
      "source": [
        "retrained_resnet50_model.save('/model', save_format='tf')"
      ],
      "execution_count": null,
      "outputs": [
        {
          "output_type": "stream",
          "name": "stdout",
          "text": [
            "INFO:tensorflow:Assets written to: /model/assets\n"
          ]
        },
        {
          "output_type": "stream",
          "name": "stderr",
          "text": [
            "/usr/local/lib/python3.7/dist-packages/keras/utils/generic_utils.py:497: CustomMaskWarning: Custom mask layers require a config and must override get_config. When loading, the custom mask layer must be passed to the custom_objects argument.\n",
            "  category=CustomMaskWarning)\n"
          ]
        }
      ]
    },
    {
      "cell_type": "code",
      "metadata": {
        "colab": {
          "base_uri": "https://localhost:8080/",
          "height": 0
        },
        "id": "K1Cx_cKBAz6f",
        "outputId": "5e2d1276-f899-4608-9261-6e21f9ced775"
      },
      "source": [
        "# Function to predict from model\n",
        "def predict_image_category_from_custom_resnet50_model(path_to_file):\n",
        "    x = image.load_img(path_to_file, target_size=(32, 32))\n",
        "    x = image.img_to_array(x)\n",
        "    x = np.expand_dims(x, axis=0)\n",
        "    x = preprocess_input(x)\n",
        "    return retrained_resnet50_model.predict(x)\n",
        "\n",
        "# Get a sample image prediction\n",
        "image_filepath = os.path.join(os.getcwd(),'FIREWHEEL-master', 'Pictures', 'Pictures', '4', '2-84315333-highres.jpg')\n",
        "\n",
        "prediction = predict_image_category_from_custom_resnet50_model(image_filepath)\n",
        "print('pred:\\n', prediction)\n",
        "\n",
        "# Get the index of the maximum category\n",
        "index_of_max_prediction = tf.argmax(prediction, axis=1)\n",
        "print('ind:\\n', index_of_max_prediction)\n"
      ],
      "execution_count": 21,
      "outputs": [
        {
          "output_type": "stream",
          "name": "stdout",
          "text": [
            "pred:\n",
            " [[0.03455659 0.00962323 0.01030116 0.01887261 0.02183663 0.02032502\n",
            "  0.01574032 0.01101292 0.03705924 0.02099603 0.01969961 0.02133606\n",
            "  0.00421069 0.01493765 0.00887161 0.00977669 0.02944573 0.0050054\n",
            "  0.01985176 0.01045396 0.01265098 0.00463081 0.00916388 0.03160807\n",
            "  0.0071906  0.01007057 0.01271445 0.00847025 0.0231418  0.00562715\n",
            "  0.03525976 0.01316929 0.00408072 0.00605692 0.02060071 0.01427857\n",
            "  0.02071609 0.02012273 0.01630792 0.01288343 0.01008812 0.01923787\n",
            "  0.01115823 0.01278549 0.01054589 0.01520003 0.00744766 0.00816479\n",
            "  0.00959496 0.01295837 0.00813894 0.01300663 0.01026664 0.01031832\n",
            "  0.01041697 0.02135332 0.03643548 0.00609641 0.01041655 0.01613805\n",
            "  0.00571893 0.01328929 0.0069871  0.01095509 0.00895915 0.01385377\n",
            "  0.0089976  0.0242234  0.00589661 0.00869275]]\n",
            "ind:\n",
            " tf.Tensor([8], shape=(1,), dtype=int64)\n"
          ]
        }
      ]
    },
    {
      "cell_type": "code",
      "metadata": {
        "colab": {
          "base_uri": "https://localhost:8080/",
          "height": 35
        },
        "id": "NL6SlHkViAwD",
        "outputId": "c43dc794-f276-40d1-94b7-694e870505b2"
      },
      "source": [
        "code_to_target[3]"
      ],
      "execution_count": 22,
      "outputs": [
        {
          "output_type": "execute_result",
          "data": {
            "application/vnd.google.colaboratory.intrinsic+json": {
              "type": "string"
            },
            "text/plain": [
              "'koeln'"
            ]
          },
          "metadata": {},
          "execution_count": 22
        }
      ]
    },
    {
      "cell_type": "markdown",
      "metadata": {
        "id": "DAT_avMxj5Q8"
      },
      "source": [
        "# Combining Title/Text Classification and Image Categorization Models with Cosine Similarity Scoring"
      ]
    },
    {
      "cell_type": "markdown",
      "metadata": {
        "id": "VJYnUMHa8f0G"
      },
      "source": [
        "## Image Prediction"
      ]
    },
    {
      "cell_type": "code",
      "metadata": {
        "id": "w7ulMlFEjZIi"
      },
      "source": [
        "# Load all images from the test data\n",
        "image_directory = os.path.join(os.getcwd(),'FIREWHEEL-master', 'Pictures', 'Pictures', '4')\n",
        "\n",
        "# List to hold all images, their filenames, and their predictions\n",
        "all_images_and_their_predictions = []\n",
        "\n",
        "# Iterate over every image\n",
        "for current_image in os.listdir(image_directory):\n",
        "    \n",
        "    # Construct the full path of the image\n",
        "    full_path = os.path.join(image_directory, current_image)\n",
        "    \n",
        "    # Append to the list the...\n",
        "    all_images_and_their_predictions.append(\n",
        "        (\n",
        "            current_image, # ... filename\n",
        "            image.load_img(full_path), # ... the image itself\n",
        "            predict_image_category_from_custom_resnet50_model(full_path) # ...and the prediction\n",
        "        )\n",
        "    )"
      ],
      "execution_count": 23,
      "outputs": []
    },
    {
      "cell_type": "code",
      "metadata": {
        "colab": {
          "base_uri": "https://localhost:8080/",
          "height": 0
        },
        "id": "dOxb025BoSDV",
        "outputId": "29032443-0f1f-4919-947e-3e602e58da8c"
      },
      "source": [
        "# See what some of it looks like\n",
        "all_images_and_their_predictions[0]"
      ],
      "execution_count": 24,
      "outputs": [
        {
          "output_type": "execute_result",
          "data": {
            "text/plain": [
              "('enrique-iglesias-dpa.jpg',\n",
              " <PIL.JpegImagePlugin.JpegImageFile image mode=RGB size=299x150 at 0x7FD1DE6DD710>,\n",
              " array([[0.01742882, 0.01792908, 0.02714306, 0.01030368, 0.00625574,\n",
              "         0.02401019, 0.01852323, 0.02536107, 0.00961238, 0.01187101,\n",
              "         0.02975018, 0.01518169, 0.00907237, 0.01587668, 0.00631885,\n",
              "         0.01122189, 0.03397872, 0.0048692 , 0.01590563, 0.01265182,\n",
              "         0.01153506, 0.00564616, 0.01477617, 0.00961818, 0.01442229,\n",
              "         0.00962864, 0.00939959, 0.01739679, 0.0099417 , 0.02078647,\n",
              "         0.01248621, 0.01450507, 0.00423805, 0.0093092 , 0.004351  ,\n",
              "         0.00819779, 0.03081368, 0.01461032, 0.01753346, 0.0052724 ,\n",
              "         0.01316177, 0.01953398, 0.01532231, 0.02281186, 0.00979801,\n",
              "         0.01650102, 0.01580591, 0.01549624, 0.02235479, 0.01606088,\n",
              "         0.00953517, 0.01321972, 0.00936146, 0.00548413, 0.02882421,\n",
              "         0.02403749, 0.011379  , 0.00504651, 0.01419804, 0.01148352,\n",
              "         0.00998964, 0.00979473, 0.01595658, 0.00726375, 0.0127213 ,\n",
              "         0.01405818, 0.01167881, 0.01479535, 0.01627379, 0.02031836]],\n",
              "       dtype=float32))"
            ]
          },
          "metadata": {},
          "execution_count": 24
        }
      ]
    },
    {
      "cell_type": "code",
      "metadata": {
        "id": "K3ZKRc1ppN49"
      },
      "source": [
        "# Write the image predictions out to a file\n",
        "with open('dataset_4_image_category_predictions.csv', 'w') as f:\n",
        "    f.write('imageName, prediction\\n')\n",
        "\n",
        "    for name, _, prediction in all_images_and_their_predictions:\n",
        "        f.write(name)\n",
        "        f.write(', ')\n",
        "        f.write(str(prediction).replace('\\n', ''))\n",
        "        f.write('\\n')"
      ],
      "execution_count": null,
      "outputs": []
    },
    {
      "cell_type": "markdown",
      "metadata": {
        "id": "FnvMe1Eg8j5U"
      },
      "source": [
        "# Title/Text Prediction"
      ]
    },
    {
      "cell_type": "code",
      "metadata": {
        "colab": {
          "base_uri": "https://localhost:8080/",
          "height": 0
        },
        "id": "Mhy2fiQc56AL",
        "outputId": "d73b2f99-3c97-4dcc-aa17-3c7d486673e0"
      },
      "source": [
        "# Redefine image prediction to return tuple\n",
        "def predict_text_and_title_category_from_text_classification_model(tensor_index):\n",
        "    return (custom_standardization(testDataframe.iloc[tensor_index]['textData']).numpy().decode('UTF-8'), text_classification_model.predict(testDataframe_tensor[tensor_index]))\n",
        "\n",
        "# Test function\n",
        "predict_text_and_title_category_from_text_classification_model(1914)"
      ],
      "execution_count": 25,
      "outputs": [
        {
          "output_type": "execute_result",
          "data": {
            "text/plain": [
              "('„kohlekraftwerke haben keinen platz in zukunfststrategie mehr“ der energiekonzern rwe hat die planungen zum bau des neuen braunkohlekraftwerks boaplus am standort niederaußem eingestellt dies gab das unternehmen am freitagmorgen bekannt „das vorhaben war eine option um bestehende kraftwerke durch eine neue anlage',\n",
              " array([[ 0.02957481, -0.01164114,  0.5377928 ,  3.2740164 ,  5.953232  ,\n",
              "         -0.03509229, -4.2835226 ,  0.01098431, -1.3354447 , -1.5901552 ,\n",
              "          1.1114221 , -4.37766   , -4.841778  , -4.846684  , -4.52162   ,\n",
              "         -4.8395934 , -4.6292667 , -5.01795   , -4.747758  , -5.1757374 ,\n",
              "         -5.0864754 , -5.097746  , -2.9186878 , -4.7516494 , -4.4451923 ,\n",
              "         -4.502508  , -5.0206985 , -4.686153  , -5.19673   , -4.6540174 ,\n",
              "         -4.5984764 , -4.4938745 , -4.7347527 , -4.7515817 , -4.4991903 ,\n",
              "         -4.3902626 , -4.356159  , -4.7123194 , -4.671808  , -4.4171886 ,\n",
              "         -4.529266  , -4.838463  , -4.3714924 , -4.477742  , -4.956408  ,\n",
              "         -4.472825  , -5.0012136 , -4.653598  , -4.651409  , -5.02337   ,\n",
              "         -4.8854475 , -4.892101  , -5.136646  , -4.587515  , -4.3842344 ,\n",
              "         -4.907707  , -4.3545012 , -4.8304143 , -4.3253703 , -4.4953713 ,\n",
              "         -4.640995  , -4.4844556 , -4.693839  , -5.114409  , -5.0580792 ,\n",
              "         -4.5890946 , -4.4203897 , -4.8201485 , -2.9575615 , -4.3328247 ]],\n",
              "       dtype=float32))"
            ]
          },
          "metadata": {},
          "execution_count": 25
        }
      ]
    },
    {
      "cell_type": "code",
      "metadata": {
        "id": "ZLsmBnYg-Aud"
      },
      "source": [
        "# Make a list containing the title/text and its prediction\n",
        "all_title_text_and_their_predictions = []\n",
        "\n",
        "for index in range(len(testDataframe) - 1):\n",
        "    this_text, this_prediction = predict_text_and_title_category_from_text_classification_model(index)\n",
        "    all_title_text_and_their_predictions.append((this_text, this_prediction))"
      ],
      "execution_count": 26,
      "outputs": []
    },
    {
      "cell_type": "code",
      "metadata": {
        "id": "FMuRYsL9ANcN"
      },
      "source": [
        "# Write the title/text predictions out to a file\n",
        "with open('dataset_4_title_text_predictions.csv', 'w') as f:\n",
        "    f.write('title_text, prediction\\n')\n",
        "\n",
        "    for text, prediction in all_title_text_and_their_predictions:\n",
        "        f.write(text)\n",
        "        f.write(',')\n",
        "        f.write(str(prediction).replace('\\n', ''))\n",
        "        f.write('\\n')"
      ],
      "execution_count": null,
      "outputs": []
    },
    {
      "cell_type": "markdown",
      "metadata": {
        "id": "d-F5ua49CikE"
      },
      "source": [
        "# Cosine Similarity Scoring"
      ]
    },
    {
      "cell_type": "code",
      "metadata": {
        "colab": {
          "base_uri": "https://localhost:8080/",
          "height": 35
        },
        "id": "TzO7sd6AC1JP",
        "outputId": "bb32d836-9312-4e39-8d16-2db6bbb4b3dc"
      },
      "source": [
        "# See an example of an image and its prediction\n",
        "TITLE = 0\n",
        "IMAGE = 1\n",
        "PREDICTION = 2\n",
        "\n",
        "all_images_and_their_predictions[0][TITLE]"
      ],
      "execution_count": 27,
      "outputs": [
        {
          "output_type": "execute_result",
          "data": {
            "application/vnd.google.colaboratory.intrinsic+json": {
              "type": "string"
            },
            "text/plain": [
              "'enrique-iglesias-dpa.jpg'"
            ]
          },
          "metadata": {},
          "execution_count": 27
        }
      ]
    },
    {
      "cell_type": "code",
      "metadata": {
        "colab": {
          "base_uri": "https://localhost:8080/",
          "height": 167
        },
        "id": "uwlPwk01DEwN",
        "outputId": "f897f4ed-703c-4be9-c499-20b6f57d5937"
      },
      "source": [
        "all_images_and_their_predictions[0][IMAGE]"
      ],
      "execution_count": 28,
      "outputs": [
        {
          "output_type": "execute_result",
          "data": {
            "image/png": "[encoded data removed]",
            "text/plain": [
              "<PIL.JpegImagePlugin.JpegImageFile image mode=RGB size=299x150 at 0x7FD1DE6DD710>"
            ]
          },
          "metadata": {},
          "execution_count": 28
        }
      ]
    },
    {
      "cell_type": "code",
      "metadata": {
        "colab": {
          "base_uri": "https://localhost:8080/",
          "height": 0
        },
        "id": "pL78o0VvDEpT",
        "outputId": "619a70f9-6b6c-4ec6-f761-d4fc57232111"
      },
      "source": [
        "all_images_and_their_predictions[0][PREDICTION]"
      ],
      "execution_count": 29,
      "outputs": [
        {
          "output_type": "execute_result",
          "data": {
            "text/plain": [
              "array([[0.01742882, 0.01792908, 0.02714306, 0.01030368, 0.00625574,\n",
              "        0.02401019, 0.01852323, 0.02536107, 0.00961238, 0.01187101,\n",
              "        0.02975018, 0.01518169, 0.00907237, 0.01587668, 0.00631885,\n",
              "        0.01122189, 0.03397872, 0.0048692 , 0.01590563, 0.01265182,\n",
              "        0.01153506, 0.00564616, 0.01477617, 0.00961818, 0.01442229,\n",
              "        0.00962864, 0.00939959, 0.01739679, 0.0099417 , 0.02078647,\n",
              "        0.01248621, 0.01450507, 0.00423805, 0.0093092 , 0.004351  ,\n",
              "        0.00819779, 0.03081368, 0.01461032, 0.01753346, 0.0052724 ,\n",
              "        0.01316177, 0.01953398, 0.01532231, 0.02281186, 0.00979801,\n",
              "        0.01650102, 0.01580591, 0.01549624, 0.02235479, 0.01606088,\n",
              "        0.00953517, 0.01321972, 0.00936146, 0.00548413, 0.02882421,\n",
              "        0.02403749, 0.011379  , 0.00504651, 0.01419804, 0.01148352,\n",
              "        0.00998964, 0.00979473, 0.01595658, 0.00726375, 0.0127213 ,\n",
              "        0.01405818, 0.01167881, 0.01479535, 0.01627379, 0.02031836]],\n",
              "      dtype=float32)"
            ]
          },
          "metadata": {},
          "execution_count": 29
        }
      ]
    },
    {
      "cell_type": "code",
      "metadata": {
        "colab": {
          "base_uri": "https://localhost:8080/",
          "height": 52
        },
        "id": "NhNtdWpwBedN",
        "outputId": "757f1edd-7fd6-47a6-b282-c5865eded024"
      },
      "source": [
        "# See an example of the title/text and its prediction\n",
        "TITLE_TEXT = 0\n",
        "TITLE_TEXT_PREDICTION = 1\n",
        "\n",
        "all_title_text_and_their_predictions[0][TITLE_TEXT]"
      ],
      "execution_count": 30,
      "outputs": [
        {
          "output_type": "execute_result",
          "data": {
            "application/vnd.google.colaboratory.intrinsic+json": {
              "type": "string"
            },
            "text/plain": [
              "'trainspottingstar auf offener straße erschossen in schottland haben unbekannte den schauspieler bradley welsh erschossen wie britische medien berichten wurde der 42jährige in der nähe seines hauses in der stadt edinburgh getötet welch der auch als boxer karriere gemacht hatte wurde durch den film'"
            ]
          },
          "metadata": {},
          "execution_count": 30
        }
      ]
    },
    {
      "cell_type": "code",
      "metadata": {
        "colab": {
          "base_uri": "https://localhost:8080/",
          "height": 0
        },
        "id": "EwYgCFzTCyoV",
        "outputId": "2a55896c-9baf-44e4-ad51-13707768d640"
      },
      "source": [
        "all_title_text_and_their_predictions[0][TITLE_TEXT_PREDICTION]"
      ],
      "execution_count": 31,
      "outputs": [
        {
          "output_type": "execute_result",
          "data": {
            "text/plain": [
              "array([[ 4.66456   ,  0.11148077,  1.569925  ,  1.2951677 ,  0.7283055 ,\n",
              "         2.5972145 , -4.142716  ,  0.12528448,  0.34255397, -1.5581056 ,\n",
              "         1.1063657 , -4.8214087 , -4.407771  , -4.565612  , -4.3368716 ,\n",
              "        -4.252352  , -4.176035  , -4.554289  , -4.570456  , -4.5268097 ,\n",
              "        -4.554048  , -4.3315153 , -3.4176009 , -4.2183595 , -4.429091  ,\n",
              "        -4.1583457 , -4.4368477 , -4.2319717 , -4.6364083 , -4.5709796 ,\n",
              "        -4.351201  , -4.4193115 , -4.1378303 , -4.215995  , -4.5371733 ,\n",
              "        -4.5869365 , -4.406113  , -3.9738464 , -4.3489184 , -4.087402  ,\n",
              "        -4.3144307 , -4.292405  , -3.9475756 , -4.1290393 , -4.2610636 ,\n",
              "        -4.6544366 , -4.3999763 , -4.148087  , -4.792323  , -4.385519  ,\n",
              "        -4.351776  , -4.399864  , -4.7461643 , -4.262672  , -4.3418202 ,\n",
              "        -4.197761  , -4.1430187 , -4.237104  , -4.95713   , -3.964203  ,\n",
              "        -4.1190224 , -4.2376957 , -4.7127028 , -4.335073  , -4.360735  ,\n",
              "        -4.358054  , -4.603746  , -4.30929   , -3.08144   , -4.453517  ]],\n",
              "      dtype=float32)"
            ]
          },
          "metadata": {},
          "execution_count": 31
        }
      ]
    },
    {
      "cell_type": "code",
      "metadata": {
        "id": "K2KUctJ3G10Q"
      },
      "source": [
        "# Import Library\n",
        "from sklearn.metrics.pairwise import cosine_similarity"
      ],
      "execution_count": 32,
      "outputs": []
    },
    {
      "cell_type": "code",
      "metadata": {
        "colab": {
          "base_uri": "https://localhost:8080/",
          "height": 0
        },
        "id": "JbhAa3aFHQLA",
        "outputId": "b551ec17-5433-443a-f425-456aad1662e0"
      },
      "source": [
        "# Compare between the first title/text and the first image\n",
        "cosine_similarity(all_title_text_and_their_predictions[0][TITLE_TEXT_PREDICTION], all_images_and_their_predictions[0][PREDICTION])"
      ],
      "execution_count": 33,
      "outputs": [
        {
          "output_type": "execute_result",
          "data": {
            "text/plain": [
              "array([[-0.7381997]], dtype=float32)"
            ]
          },
          "metadata": {},
          "execution_count": 33
        }
      ]
    },
    {
      "cell_type": "code",
      "metadata": {
        "colab": {
          "base_uri": "https://localhost:8080/",
          "height": 0
        },
        "id": "OpLmqnx5Hb0Q",
        "outputId": "73259f2a-71b7-41eb-c34e-b2dce6e9ce4c"
      },
      "source": [
        "# Compare between the first title/text and the second image\n",
        "cosine_similarity(all_title_text_and_their_predictions[0][TITLE_TEXT_PREDICTION], all_images_and_their_predictions[1][PREDICTION])"
      ],
      "execution_count": 34,
      "outputs": [
        {
          "output_type": "execute_result",
          "data": {
            "text/plain": [
              "array([[-0.65784216]], dtype=float32)"
            ]
          },
          "metadata": {},
          "execution_count": 34
        }
      ]
    },
    {
      "cell_type": "code",
      "metadata": {
        "colab": {
          "base_uri": "https://localhost:8080/",
          "height": 0
        },
        "id": "JbZ9Q1nsICMg",
        "outputId": "0d8478c3-6140-46d4-bbd4-d49294ff71a1"
      },
      "source": [
        "# Compare between the first title/text and the third image\n",
        "cosine_similarity(all_title_text_and_their_predictions[0][TITLE_TEXT_PREDICTION], all_images_and_their_predictions[2][PREDICTION])"
      ],
      "execution_count": 35,
      "outputs": [
        {
          "output_type": "execute_result",
          "data": {
            "text/plain": [
              "array([[-0.64320767]], dtype=float32)"
            ]
          },
          "metadata": {},
          "execution_count": 35
        }
      ]
    },
    {
      "cell_type": "code",
      "metadata": {
        "id": "OKGPud02IDO3"
      },
      "source": [
        "# List to store results\n",
        "results = []\n",
        "\n",
        "# Iterate over all the title/text entries\n",
        "for index_title, title_text_pred in enumerate(all_title_text_and_their_predictions):\n",
        "\n",
        "    # # List to hold the top_100 image matchings\n",
        "    # top_100 = []\n",
        "\n",
        "    # # Find the cosine similarites between the current title/text and all the entries\n",
        "    # for index_image, img_pred in enumerate(all_images_and_their_predictions):\n",
        "    #     similarity = abs(cosine_similarity(title_text_pred[TITLE_TEXT_PREDICTION], img_pred[PREDICTION]))\n",
        "    #     top_100.append((img_pred, similarity))\n",
        "\n",
        "    # # Sort the list by similary\n",
        "    # top_100.sort(key=lambda x:x[1], reverse=True)\n",
        "\n",
        "    # # Only get the top 100\n",
        "    # top_100 = top_100[:100]\n",
        "\n",
        "    # # Append it to the final results\n",
        "    # results.append((title_text_pred, top_100))\n",
        "\n",
        "    # **************************************************************************************************************\n",
        "\n",
        "    # List to hold all image matchings\n",
        "    all = []\n",
        "\n",
        "    # Find the cosine similarites between the current title/text and all the entries\n",
        "    for index_image, img_pred in enumerate(all_images_and_their_predictions):\n",
        "        similarity = abs(cosine_similarity(title_text_pred[TITLE_TEXT_PREDICTION], img_pred[PREDICTION]))\n",
        "        all.append((img_pred, similarity))\n",
        "\n",
        "    # Sort the list by similary\n",
        "    all.sort(key=lambda x:x[1], reverse=True)\n",
        "\n",
        "    # Append it to the final results\n",
        "    results.append((title_text_pred, all))"
      ],
      "execution_count": 36,
      "outputs": []
    },
    {
      "cell_type": "markdown",
      "metadata": {
        "id": "2E6SdJcyWU5c"
      },
      "source": [
        "# Results Structure"
      ]
    },
    {
      "cell_type": "code",
      "metadata": {
        "colab": {
          "base_uri": "https://localhost:8080/"
        },
        "id": "C5Dq-gthIqcA",
        "outputId": "acef9192-8597-4c11-8f04-01d87706dfd1"
      },
      "source": [
        "# results[0][0] - Tuple containing (text, text-prediction)\n",
        "\n",
        "# results[0][1] - list of sorted top 100 images' tuple ((image-name, image, image-prediction), cosine-similarity to text)\n",
        "# results[0][1] - list of sorted all images' tuple ((image-name, image, image-prediction), cosine-similarity to text)\n",
        "\n",
        "# results[0][1][0][0] - Tuple of (name, image, prediction)\n",
        "# results[0][1][0][1] - cosine similarity\n",
        "\n",
        "# results[0] - First result\n",
        "# results[0][0] - That first result's text and text-prediction\n",
        "# results[0][1] - That first result's list of top 100 matching images\n",
        "# results[0][1][0] - That first result's top matching image tuple ((image-name, image, image-prediction), cosine-similarity)\n",
        "# results[0][1][0][0][0] - That first result's top matching image-name\n",
        "# results[0][1][0][0][1] - That first result's top matching image\n",
        "# results[0][1][0][0][2] - That first result's top matching image-prediction array\n",
        "# results[0][1][0][1] - That first result's top matching image's cosine similarity"
      ],
      "execution_count": null,
      "outputs": [
        {
          "output_type": "execute_result",
          "data": {
            "text/plain": [
              "array([[0.8182955]], dtype=float32)"
            ]
          },
          "metadata": {},
          "execution_count": 270
        }
      ]
    },
    {
      "cell_type": "code",
      "metadata": {
        "id": "1sOg6hUmIsDQ"
      },
      "source": [
        "# Write the results out to a file\n",
        "with open('all_results_Text_and_Image_Name.csv', 'w') as f:\n",
        "   \n",
        "    for result in results:\n",
        "\n",
        "      # Write the text to match\n",
        "      f.write(result[0][0])\n",
        "      f.write('\\n')\n",
        "\n",
        "      for index, matching_image_tuple in enumerate(result[1]):\n",
        "\n",
        "          # Write the position of the match\n",
        "          f.write(str(index + 1))\n",
        "          f.write(', ')\n",
        "\n",
        "          # Write the top image's cosine similarity\n",
        "          f.write(str(matching_image_tuple[1]))\n",
        "          f.write(', ')\n",
        "\n",
        "          # Write the top image's name\n",
        "          f.write(matching_image_tuple[0][0])\n",
        "          f.write('\\n')\n",
        "      \n",
        "      f.write('\\n\\n')"
      ],
      "execution_count": null,
      "outputs": []
    },
    {
      "cell_type": "code",
      "metadata": {
        "colab": {
          "base_uri": "https://localhost:8080/",
          "height": 419
        },
        "id": "xEjIV7W5zARD",
        "outputId": "16951f3e-a416-4046-de11-a491b46e26d4"
      },
      "source": [
        "# Convert to Article ID and rank by Image ID\n",
        "\n",
        "# Get article data\n",
        "\n",
        "# Get the directory path of the testing data\n",
        "filepath = os.path.join(os.getcwd(),'FIREWHEEL-master', 'data' )\n",
        "\n",
        "# Load the testing data and drop the appropriate columns\n",
        "testDataframe = pd.read_csv(os.path.join(filepath, 'MediaEvalNewsImagesBatch04articles.tsv'), sep='\\t')\n",
        "testDataframe = testDataframe.drop(columns=['Unnamed: 4', 'Unnamed: 3', 'url', 'hashvalue', 'nImpressions', 'nRecs', 'nClicks', 'aid'])\n",
        "\n",
        "testDataframe = testDataframe.drop(1915)\n",
        "\n",
        "# Check that the testing data looks as it should\n",
        "testDataframe"
      ],
      "execution_count": 37,
      "outputs": [
        {
          "output_type": "execute_result",
          "data": {
            "text/html": [
              "<div>\n",
              "<style scoped>\n",
              "    .dataframe tbody tr th:only-of-type {\n",
              "        vertical-align: middle;\n",
              "    }\n",
              "\n",
              "    .dataframe tbody tr th {\n",
              "        vertical-align: top;\n",
              "    }\n",
              "\n",
              "    .dataframe thead th {\n",
              "        text-align: right;\n",
              "    }\n",
              "</style>\n",
              "<table border=\"1\" class=\"dataframe\">\n",
              "  <thead>\n",
              "    <tr style=\"text-align: right;\">\n",
              "      <th></th>\n",
              "      <th>articleID</th>\n",
              "      <th>title</th>\n",
              "      <th>text</th>\n",
              "    </tr>\n",
              "  </thead>\n",
              "  <tbody>\n",
              "    <tr>\n",
              "      <th>0</th>\n",
              "      <td>1.000265e+09</td>\n",
              "      <td>Trainspotting-Star auf offener Straße erschossen</td>\n",
              "      <td>In Schottland haben Unbekannte den Schauspiele...</td>\n",
              "    </tr>\n",
              "    <tr>\n",
              "      <th>1</th>\n",
              "      <td>1.001935e+09</td>\n",
              "      <td>S-Bahn-Gleis am Kölner Hauptbahnhof ist gesperrt</td>\n",
              "      <td>Der S-Bahn-Bahnsteig am Kölner Hauptbahnhof is...</td>\n",
              "    </tr>\n",
              "    <tr>\n",
              "      <th>2</th>\n",
              "      <td>1.002375e+09</td>\n",
              "      <td>Drogendealer in Mülheim auf frischer Tat ertappt</td>\n",
              "      <td>Die Polizei hat einen einen 22-jährigen Drogen...</td>\n",
              "    </tr>\n",
              "    <tr>\n",
              "      <th>3</th>\n",
              "      <td>1.002735e+09</td>\n",
              "      <td>Die ungewöhnliche Ostermesse auf dem Autoscooter</td>\n",
              "      <td>Mit fast 33 Metern Höhe, einer Streckenlänge v...</td>\n",
              "    </tr>\n",
              "    <tr>\n",
              "      <th>4</th>\n",
              "      <td>1.002835e+09</td>\n",
              "      <td>Polizei fasst flüchtende Einbrecher nach 40 Se...</td>\n",
              "      <td>Das war ein kurzer Ausflug für zwei Einbrecher...</td>\n",
              "    </tr>\n",
              "    <tr>\n",
              "      <th>...</th>\n",
              "      <td>...</td>\n",
              "      <td>...</td>\n",
              "      <td>...</td>\n",
              "    </tr>\n",
              "    <tr>\n",
              "      <th>1910</th>\n",
              "      <td>1.999075e+09</td>\n",
              "      <td>Bücher schreiben ist eben auch ein Bürojob</td>\n",
              "      <td>Nach mehr als 30 Jahren Funkstille taucht Hora...</td>\n",
              "    </tr>\n",
              "    <tr>\n",
              "      <th>1911</th>\n",
              "      <td>1.999165e+09</td>\n",
              "      <td>RB Leipzig gewinnt dramatischen Pokalfight in ...</td>\n",
              "      <td>RB Leipzig darf dank Marcel Halstenberg weiter...</td>\n",
              "    </tr>\n",
              "    <tr>\n",
              "      <th>1912</th>\n",
              "      <td>1.999345e+09</td>\n",
              "      <td>Berliner Eisbärchen heißt Hertha</td>\n",
              "      <td>Begeisterung für Bälle hat sie schon gezeigt: ...</td>\n",
              "    </tr>\n",
              "    <tr>\n",
              "      <th>1913</th>\n",
              "      <td>1.999355e+09</td>\n",
              "      <td>Bund zahlt 600.000 Euro Schadensersatz</td>\n",
              "      <td>Für Schäden nach einem Moorbrand auf dem Gelän...</td>\n",
              "    </tr>\n",
              "    <tr>\n",
              "      <th>1914</th>\n",
              "      <td>1.999735e+09</td>\n",
              "      <td>„Kohlekraftwerke haben keinen Platz in Zukunfs...</td>\n",
              "      <td>Der Energiekonzern RWE hat die Planungen zum B...</td>\n",
              "    </tr>\n",
              "  </tbody>\n",
              "</table>\n",
              "<p>1915 rows × 3 columns</p>\n",
              "</div>"
            ],
            "text/plain": [
              "         articleID  ...                                               text\n",
              "0     1.000265e+09  ...  In Schottland haben Unbekannte den Schauspiele...\n",
              "1     1.001935e+09  ...  Der S-Bahn-Bahnsteig am Kölner Hauptbahnhof is...\n",
              "2     1.002375e+09  ...  Die Polizei hat einen einen 22-jährigen Drogen...\n",
              "3     1.002735e+09  ...  Mit fast 33 Metern Höhe, einer Streckenlänge v...\n",
              "4     1.002835e+09  ...  Das war ein kurzer Ausflug für zwei Einbrecher...\n",
              "...            ...  ...                                                ...\n",
              "1910  1.999075e+09  ...  Nach mehr als 30 Jahren Funkstille taucht Hora...\n",
              "1911  1.999165e+09  ...  RB Leipzig darf dank Marcel Halstenberg weiter...\n",
              "1912  1.999345e+09  ...  Begeisterung für Bälle hat sie schon gezeigt: ...\n",
              "1913  1.999355e+09  ...  Für Schäden nach einem Moorbrand auf dem Gelän...\n",
              "1914  1.999735e+09  ...  Der Energiekonzern RWE hat die Planungen zum B...\n",
              "\n",
              "[1915 rows x 3 columns]"
            ]
          },
          "metadata": {},
          "execution_count": 37
        }
      ]
    },
    {
      "cell_type": "code",
      "metadata": {
        "colab": {
          "base_uri": "https://localhost:8080/",
          "height": 419
        },
        "id": "j14k-ITz8z-r",
        "outputId": "58a368f5-e7de-4f5b-aeb6-4ee648a363d3"
      },
      "source": [
        "# Convert to Article ID and rank by Image ID\n",
        "\n",
        "# Get image data\n",
        "\n",
        "# Get the directory path of the testing data\n",
        "filepath = os.path.join(os.getcwd(),'FIREWHEEL-master', 'data' )\n",
        "\n",
        "# Load the testing data and drop the appropriate columns\n",
        "imagesDataframe = pd.read_csv(os.path.join(filepath, 'MediaEvalNewsImagesBatch04images.tsv'), sep='\\t')\n",
        "imagesDataframe = imagesDataframe.drop(columns=['imgFile'])\n",
        "imagesDataframe = imagesDataframe.rename(columns={'img': 'filename'})\n",
        "imagesDataframe = imagesDataframe.drop(1915)\n",
        "\n",
        "image_filename_and_id = []\n",
        "\n",
        "# Replace the filename column with the last split\n",
        "for row in imagesDataframe.iterrows():\n",
        "    image_filename_and_id.append((row[1][0].split('/')[-1], int(row[1][1])))\n",
        "\n",
        "image_filename_and_id = pd.DataFrame(data=image_filename_and_id, columns=['filename', 'id'])\n",
        "image_filename_and_id"
      ],
      "execution_count": 38,
      "outputs": [
        {
          "output_type": "execute_result",
          "data": {
            "text/html": [
              "<div>\n",
              "<style scoped>\n",
              "    .dataframe tbody tr th:only-of-type {\n",
              "        vertical-align: middle;\n",
              "    }\n",
              "\n",
              "    .dataframe tbody tr th {\n",
              "        vertical-align: top;\n",
              "    }\n",
              "\n",
              "    .dataframe thead th {\n",
              "        text-align: right;\n",
              "    }\n",
              "</style>\n",
              "<table border=\"1\" class=\"dataframe\">\n",
              "  <thead>\n",
              "    <tr style=\"text-align: right;\">\n",
              "      <th></th>\n",
              "      <th>filename</th>\n",
              "      <th>id</th>\n",
              "    </tr>\n",
              "  </thead>\n",
              "  <tbody>\n",
              "    <tr>\n",
              "      <th>0</th>\n",
              "      <td>spannende-galopprennen.jpg</td>\n",
              "      <td>134801</td>\n",
              "    </tr>\n",
              "    <tr>\n",
              "      <th>1</th>\n",
              "      <td>dpa-halt-polizei-schild.jpg</td>\n",
              "      <td>136751</td>\n",
              "    </tr>\n",
              "    <tr>\n",
              "      <th>2</th>\n",
              "      <td>dpa-zuguebergang-andreaskreuz.jpg</td>\n",
              "      <td>135527</td>\n",
              "    </tr>\n",
              "    <tr>\n",
              "      <th>3</th>\n",
              "      <td>dpa-bahn-faehrt-in-bahnhof.jpg</td>\n",
              "      <td>135908</td>\n",
              "    </tr>\n",
              "    <tr>\n",
              "      <th>4</th>\n",
              "      <td>britta-havlicek-haltestelle-bus.jpg</td>\n",
              "      <td>135583</td>\n",
              "    </tr>\n",
              "    <tr>\n",
              "      <th>...</th>\n",
              "      <td>...</td>\n",
              "      <td>...</td>\n",
              "    </tr>\n",
              "    <tr>\n",
              "      <th>1910</th>\n",
              "      <td>kelly-maite-26042019-27--1-.jpg</td>\n",
              "      <td>136927</td>\n",
              "    </tr>\n",
              "    <tr>\n",
              "      <th>1911</th>\n",
              "      <td>bayern-jubel-gegen-bremen.jpg</td>\n",
              "      <td>136928</td>\n",
              "    </tr>\n",
              "    <tr>\n",
              "      <th>1912</th>\n",
              "      <td>20190302bucco-007.jpg</td>\n",
              "      <td>136931</td>\n",
              "    </tr>\n",
              "    <tr>\n",
              "      <th>1913</th>\n",
              "      <td>feuer-ruenderoth.jpg</td>\n",
              "      <td>136958</td>\n",
              "    </tr>\n",
              "    <tr>\n",
              "      <th>1914</th>\n",
              "      <td>anfang-pk2.jpg</td>\n",
              "      <td>136941</td>\n",
              "    </tr>\n",
              "  </tbody>\n",
              "</table>\n",
              "<p>1915 rows × 2 columns</p>\n",
              "</div>"
            ],
            "text/plain": [
              "                                 filename      id\n",
              "0              spannende-galopprennen.jpg  134801\n",
              "1             dpa-halt-polizei-schild.jpg  136751\n",
              "2       dpa-zuguebergang-andreaskreuz.jpg  135527\n",
              "3          dpa-bahn-faehrt-in-bahnhof.jpg  135908\n",
              "4     britta-havlicek-haltestelle-bus.jpg  135583\n",
              "...                                   ...     ...\n",
              "1910      kelly-maite-26042019-27--1-.jpg  136927\n",
              "1911        bayern-jubel-gegen-bremen.jpg  136928\n",
              "1912                20190302bucco-007.jpg  136931\n",
              "1913                 feuer-ruenderoth.jpg  136958\n",
              "1914                       anfang-pk2.jpg  136941\n",
              "\n",
              "[1915 rows x 2 columns]"
            ]
          },
          "metadata": {},
          "execution_count": 38
        }
      ]
    },
    {
      "cell_type": "code",
      "metadata": {
        "id": "PURBS6J7bVXV"
      },
      "source": [
        "# Custom function to covert all letters to lowercase and remove punctuation\n",
        "def custom_standardization(input_data):\n",
        "\n",
        "    # Convert the input data to lowercase\n",
        "    lowercase = tf.strings.lower(input_data)\n",
        "\n",
        "    # Remove punctuation\n",
        "    no_punctuation = tf.strings.regex_replace(lowercase, '[%s]' % re.escape(string.punctuation), '')\n",
        "\n",
        "    return no_punctuation.numpy().decode(\"utf-8\")"
      ],
      "execution_count": 39,
      "outputs": []
    },
    {
      "cell_type": "code",
      "metadata": {
        "id": "YQDxtFBbbktw"
      },
      "source": [
        "# results[0][0] - Tuple containing (text, text-prediction)\n",
        "\n",
        "# results[0][1] - list of sorted top 100 images' tuple ((image-name, image, image-prediction), cosine-similarity to text)\n",
        "# results[0][1] - list of sorted all images' tuple ((image-name, image, image-prediction), cosine-similarity to text)\n",
        "\n",
        "# results[0][1][0][0] - Tuple of (name, image, prediction)\n",
        "# results[0][1][0][1] - cosine similarity\n",
        "\n",
        "# results[0] - First result\n",
        "# results[0][0] - That first result's text and text-prediction\n",
        "# results[0][1] - That first result's list of top 100 matching images\n",
        "# results[0][1][0] - That first result's top matching image tuple ((image-name, image, image-prediction), cosine-similarity)\n",
        "# results[0][1][0][0][0] - That first result's top matching image-name\n",
        "# results[0][1][0][0][1] - That first result's top matching image\n",
        "# results[0][1][0][0][2] - That first result's top matching image-prediction array\n",
        "# results[0][1][0][1] - That first result's top matching image's cosine similarity\n",
        "\n",
        "# Make a new list\n",
        "results_by_id = []\n",
        "\n",
        "# memoiazation\n",
        "images_dictionary = {}\n",
        "\n",
        "# Iterate over all the results\n",
        "for result in results:\n",
        "\n",
        "    current_article_id = None\n",
        "\n",
        "    # Find the article ID of the text row\n",
        "    for row in testDataframe.iterrows():\n",
        "        try:\n",
        "            if result[0][0].startswith(custom_standardization(row[1][1])):\n",
        "                current_article_id = int(row[1][0])\n",
        "                break\n",
        "        except:\n",
        "            pass\n",
        "\n",
        "    # If an article Id was found, do the thing\n",
        "    if current_article_id is not None:\n",
        "        \n",
        "        # Make a list to hold all sorted image IDs\n",
        "        list_of_image_ids = []\n",
        "\n",
        "        # Iterate over the entire list of sorted images\n",
        "        for image_to_find in result[1]:\n",
        "\n",
        "            # Get it from the dictionary\n",
        "            image_to_add_to_the_list = images_dictionary.get(image_to_find[0][0])\n",
        "\n",
        "            # If it was not found in the dictionary\n",
        "            if image_to_add_to_the_list is None:\n",
        "\n",
        "              # Find the image ID of the image name\n",
        "              for other_row in image_filename_and_id.iterrows():\n",
        "\n",
        "                  # Add it to the dictionary!\n",
        "                  if image_to_find[0][0] == other_row[1][0]:\n",
        "                      images_dictionary[image_to_find[0][0]] = other_row[1][1]\n",
        "                      break\n",
        "            \n",
        "            # Get it from the dictionary again (it should have been found)\n",
        "            image_to_add_to_the_list = images_dictionary.get(image_to_find[0][0])\n",
        "            \n",
        "            # Add it to the list\n",
        "            if image_to_add_to_the_list is not None:\n",
        "                list_of_image_ids.append((image_to_add_to_the_list, image_to_find[1]))\n",
        "\n",
        "        results_by_id.append((current_article_id, list_of_image_ids))"
      ],
      "execution_count": 65,
      "outputs": []
    },
    {
      "cell_type": "code",
      "metadata": {
        "id": "UWGhUFdwf9s_",
        "colab": {
          "base_uri": "https://localhost:8080/",
          "height": 0
        },
        "outputId": "4a2060dc-f382-4d0b-9b24-25102e3a7417"
      },
      "source": [
        "# results_by_id[0] - First element of results: tuple (articleID, [sorted list of imageIDs that mostly likely match, but its a tuple of (imageID, Cosine similarity)])\n",
        "\n",
        "# results_by_id[0][0] - article ID\n",
        "# results_by_id[0][1] - List of matching images\n",
        "# results_by_id[0][1][0] - Top matching image tuple\n",
        "# results_by_id[0][1][0][0] - imageID\n",
        "# results_by_id[0][1][0][1][0][0] - cosign similarity\n",
        "\n",
        "results_by_id[0][1]"
      ],
      "execution_count": 67,
      "outputs": [
        {
          "output_type": "execute_result",
          "data": {
            "text/plain": [
              "1000265260"
            ]
          },
          "metadata": {},
          "execution_count": 67
        }
      ]
    },
    {
      "cell_type": "code",
      "metadata": {
        "id": "_oOF8X7obkll"
      },
      "source": [
        "# Write all the results to a file\n",
        "with open('all_results_by_articleID_and_imageID.csv', 'w') as f:\n",
        "\n",
        "    f.write('articleID, imageIDs in order by most-likely matching (cosine similarity)\\n')\n",
        "\n",
        "    for final_result in results_by_id:\n",
        "        f.write(str(final_result[0]))\n",
        "        f.write(', ')\n",
        "        for each_image_id in final_result[1]:\n",
        "            f.write(str(each_image_id[0]))\n",
        "            f.write(' (')\n",
        "            f.write(str(each_image_id[1][0][0]))\n",
        "            f.write('), ')\n",
        "        f.write('\\n')"
      ],
      "execution_count": 76,
      "outputs": []
    },
    {
      "cell_type": "code",
      "metadata": {
        "id": "xZpR9WWuUI0x"
      },
      "source": [
        ""
      ],
      "execution_count": null,
      "outputs": []
    }
  ]
}