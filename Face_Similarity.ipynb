{
 "cells": [
  {
   "cell_type": "markdown",
   "id": "8a7f092f",
   "metadata": {},
   "source": [
    "### Face Similarity Caculation\n",
    "- Loading the extracted name from txt file\n",
    "- Extract face images paired with the extracted name\n",
    "- Caculate the face similarity between the face images in the test dataset and images paired with the extracted name in the training dataset. "
   ]
  },
  {
   "cell_type": "code",
   "execution_count": null,
   "id": "24e0ce9a",
   "metadata": {},
   "outputs": [],
   "source": [
    "import os\n",
    "def extract_text (orig_file):\n",
    "    articles_names=open(orig_file, 'r', encoding=\"utf-8\")\n",
    "    next(articles_names)\n",
    "    lines = [line.strip() for line in articles_names]\n",
    "    result=[]\n",
    "    for i in range(len(lines)):\n",
    "        orig_line=lines[i]\n",
    "        segs = orig_line.split(\"\\t\")\n",
    "        result.append((segs[0], segs[3].split(\",\")[0]))\n",
    "    return result"
   ]
  },
  {
   "cell_type": "code",
   "execution_count": null,
   "id": "dfd11c26",
   "metadata": {},
   "outputs": [],
   "source": [
    "ar_name_list=extract_text(\"test_title_eng_name.tsv\")"
   ]
  },
  {
   "cell_type": "code",
   "execution_count": null,
   "id": "cb17a02e",
   "metadata": {},
   "outputs": [],
   "source": [
    "import os\n",
    "d='faces'\n",
    "sub_directories = [o for o in os.listdir(d) if os.path.isdir(os.path.join(d,o))]\n",
    "idx_name={}\n",
    "name_idx={}\n",
    "idx=1\n",
    "for sub_dir in sub_directories:\n",
    "    idx_name[sub_dir]='face_'+str(idx)\n",
    "    name_idx['face_'+str(idx)] = sub_dir\n",
    "    idx+=1\n",
    "name_idx"
   ]
  },
  {
   "cell_type": "code",
   "execution_count": null,
   "id": "3aa9a63d",
   "metadata": {},
   "outputs": [],
   "source": [
    "from deepface import DeepFace\n",
    "cnt = 0\n",
    "img_files = [f for f in os.listdir(\"test_img_face\") if f.endswith('.jpg')]\n",
    "ar_img_files={}\n",
    "for ar_name in ar_name_list:\n",
    "    if ar_name[1].strip() != 'NA' and ar_name[1] in idx_name:\n",
    "        if os.path.exists(os.path.join(\"mapped_face\", idx_name[ar_name[1]])):\n",
    "            df_results=[]\n",
    "            for img_file in img_files:\n",
    "                img_path=os.path.join(\"test_img_face\", img_file)\n",
    "                df = DeepFace.find(img_path = img_path, db_path =os.path.join(\"mapped_face\", idx_name[ar_name[1]]), model_name='Facenet', enforce_detection=False)\n",
    "                if len(df)>0:\n",
    "                    df_results.append((img_path,df['Facenet_cosine'].mean(), len(df)))\n",
    "                else:\n",
    "                    df_results.append((img_path,\"NA\", 0))\n",
    "            ar_img_files[ar_name[0]]=df_results\n",
    "            cnt+=1\n",
    "            print(cnt, \" name completed\")"
   ]
  },
  {
   "cell_type": "code",
   "execution_count": null,
   "id": "0054a9cb",
   "metadata": {},
   "outputs": [],
   "source": [
    "f = open(\"train_img_similarity.txt\", \"a\")\n",
    "for key, v in ar_img_files.items():\n",
    "    for item in v:\n",
    "        result=key+\"\\t\"+os.path.basename(item[0])+\"\\t\"+str(item[1])+\"\\t\"+str(item[2])+\"\\n\"\n",
    "        f.write(result)\n",
    "f.close()"
   ]
  }
 ],
 "metadata": {
  "kernelspec": {
   "display_name": "Python 3 (ipykernel)",
   "language": "python",
   "name": "python3"
  },
  "language_info": {
   "codemirror_mode": {
    "name": "ipython",
    "version": 3
   },
   "file_extension": ".py",
   "mimetype": "text/x-python",
   "name": "python",
   "nbconvert_exporter": "python",
   "pygments_lexer": "ipython3",
   "version": "3.8.10"
  }
 },
 "nbformat": 4,
 "nbformat_minor": 5
}
