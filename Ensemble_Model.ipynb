{
 "cells": [
  {
   "cell_type": "markdown",
   "id": "eb79687f",
   "metadata": {},
   "source": [
    "## Load and processes result files generated from all proposed models. The results include similarity scores of all images per new article in the test dataset."
   ]
  },
  {
   "cell_type": "code",
   "execution_count": 1,
   "id": "4c71fd45",
   "metadata": {},
   "outputs": [],
   "source": [
    "lines_caption_sim = []\n",
    "with open('caption_sim_wmd.txt') as f:\n",
    "    lines_caption_sim = f.readlines()"
   ]
  },
  {
   "cell_type": "code",
   "execution_count": 2,
   "id": "ef2a4aca",
   "metadata": {},
   "outputs": [],
   "source": [
    "image_train_sim = []\n",
    "with open('train_img_similarity.txt') as f:\n",
    "    image_train_sim = f.readlines()"
   ]
  },
  {
   "cell_type": "code",
   "execution_count": 3,
   "id": "a304c8ff",
   "metadata": {},
   "outputs": [],
   "source": [
    "image_crawl_sim = []\n",
    "with open('crawl_img_similarity.txt') as f:\n",
    "    image_crawl_sim = f.readlines()"
   ]
  },
  {
   "cell_type": "code",
   "execution_count": 4,
   "id": "8fa792d1",
   "metadata": {},
   "outputs": [],
   "source": [
    "ar_cap_sim_dic={}\n",
    "for line in lines_caption_sim:\n",
    "    segs=line.strip().split(\"\\t\")\n",
    "    if segs[0] not in ar_cap_sim_dic:\n",
    "        ar_cap_sim_dic[segs[0]]={}\n",
    "    ar_cap_sim_dic[segs[0]][segs[1]]= 1-float(segs[2])"
   ]
  },
  {
   "cell_type": "code",
   "execution_count": 5,
   "id": "9edcf946",
   "metadata": {},
   "outputs": [
    {
     "data": {
      "text/plain": [
       "1915"
      ]
     },
     "execution_count": 5,
     "metadata": {},
     "output_type": "execute_result"
    }
   ],
   "source": [
    "len(ar_cap_sim_dic)"
   ]
  },
  {
   "cell_type": "code",
   "execution_count": 6,
   "id": "fbd5ba48",
   "metadata": {},
   "outputs": [],
   "source": [
    "ar_train_sim_dic={}\n",
    "for line in image_train_sim:\n",
    "    segs=line.strip().split(\"\\t\")\n",
    "    if segs[0] not in ar_train_sim_dic:\n",
    "        ar_train_sim_dic[segs[0]]=[]\n",
    "    ar_train_sim_dic[segs[0]].append((segs[1], segs[2], segs[3]))"
   ]
  },
  {
   "cell_type": "code",
   "execution_count": 7,
   "id": "772671e5",
   "metadata": {},
   "outputs": [],
   "source": [
    "ar_train_sim_dic_cal={}\n",
    "for k, v in ar_train_sim_dic.items():\n",
    "    if k not in ar_train_sim_dic_cal:\n",
    "        ar_train_sim_dic_cal[k]={}\n",
    "    for item in v:\n",
    "        if int(item[2])==0:\n",
    "            sim=0\n",
    "        else:\n",
    "            sim=(1-float(item[1]))*int(item[2])\n",
    "        ar_train_sim_dic_cal[k][item[0]]= sim"
   ]
  },
  {
   "cell_type": "code",
   "execution_count": 8,
   "id": "0827ebf4",
   "metadata": {},
   "outputs": [],
   "source": [
    "ar_crawl_sim_dic={}\n",
    "for line in image_crawl_sim:\n",
    "    segs=line.strip().split(\"\\t\")\n",
    "    if segs[0] not in ar_train_sim_dic:\n",
    "        ar_crawl_sim_dic[segs[0]]=[]\n",
    "    ar_crawl_sim_dic[segs[0]].append((segs[1], segs[2], segs[3]))"
   ]
  },
  {
   "cell_type": "code",
   "execution_count": 9,
   "id": "42150337",
   "metadata": {},
   "outputs": [],
   "source": [
    "ar_crawl_sim_dic_cal={}\n",
    "for k, v in ar_crawl_sim_dic.items():\n",
    "    if k not in ar_train_sim_dic_cal:\n",
    "        ar_crawl_sim_dic_cal[k]={}\n",
    "    for item in v:\n",
    "        if int(item[2])==0:\n",
    "            sim=0\n",
    "        else:\n",
    "            sim=(1-float(item[1]))*int(item[2])\n",
    "        ar_crawl_sim_dic_cal[k][item[0]]= sim"
   ]
  },
  {
   "cell_type": "code",
   "execution_count": 10,
   "id": "d358b4c7",
   "metadata": {},
   "outputs": [],
   "source": [
    "def norm_dict(a_dict):\n",
    "    result={}\n",
    "    amin, amax = min(a_dict.values()), max(a_dict.values())\n",
    "    for k, v in a_dict.items():\n",
    "        if amax-amin==0:\n",
    "            result[k]=0\n",
    "        else:\n",
    "            result[k] = (v-amin) / (amax-amin)\n",
    "    return result"
   ]
  },
  {
   "cell_type": "code",
   "execution_count": 11,
   "id": "a94d21ba",
   "metadata": {},
   "outputs": [
    {
     "name": "stdout",
     "output_type": "stream",
     "text": [
      "{1: 0.0, 2: 0.3333333333333333, 3: 0.6666666666666666, 4: 1.0}\n"
     ]
    }
   ],
   "source": [
    "sample_dict={1:1, 2:2,3:3, 4:4}\n",
    "print(norm_dict(sample_dict))"
   ]
  },
  {
   "cell_type": "code",
   "execution_count": 12,
   "id": "25590d6d",
   "metadata": {},
   "outputs": [],
   "source": [
    "#ar_cap_sim_dic, ar_train_sim_dic_cal, ar_crawl_sim_dic_cal\n",
    "def norm_sim(a_dict):\n",
    "    result={}\n",
    "    print(len(a_dict))\n",
    "    for k, v in a_dict.items():\n",
    "        result[k]=norm_dict(v)\n",
    "    return result"
   ]
  },
  {
   "cell_type": "code",
   "execution_count": 13,
   "id": "1c793474",
   "metadata": {},
   "outputs": [
    {
     "name": "stdout",
     "output_type": "stream",
     "text": [
      "1915\n"
     ]
    }
   ],
   "source": [
    "ar_cap_sim_norm=norm_sim(ar_cap_sim_dic)"
   ]
  },
  {
   "cell_type": "code",
   "execution_count": 14,
   "id": "d1727918",
   "metadata": {},
   "outputs": [
    {
     "name": "stdout",
     "output_type": "stream",
     "text": [
      "128\n"
     ]
    }
   ],
   "source": [
    "ar_train_sim_norm={}\n",
    "ar_train_sim_norm=norm_sim(ar_train_sim_dic_cal)"
   ]
  },
  {
   "cell_type": "code",
   "execution_count": 15,
   "id": "dfc34594",
   "metadata": {},
   "outputs": [
    {
     "name": "stdout",
     "output_type": "stream",
     "text": [
      "128\n"
     ]
    }
   ],
   "source": [
    "print(len(ar_train_sim_norm))"
   ]
  },
  {
   "cell_type": "code",
   "execution_count": 16,
   "id": "b5c0e69a",
   "metadata": {},
   "outputs": [
    {
     "name": "stdout",
     "output_type": "stream",
     "text": [
      "191\n"
     ]
    }
   ],
   "source": [
    "ar_crawl_sim_norm={}\n",
    "ar_crawl_sim_norm=norm_sim(ar_crawl_sim_dic_cal)"
   ]
  },
  {
   "cell_type": "code",
   "execution_count": 17,
   "id": "59e8c9d2",
   "metadata": {},
   "outputs": [
    {
     "name": "stdout",
     "output_type": "stream",
     "text": [
      "191\n"
     ]
    }
   ],
   "source": [
    "print(len(ar_crawl_sim_norm))"
   ]
  },
  {
   "cell_type": "code",
   "execution_count": 26,
   "id": "fbab8ddc",
   "metadata": {},
   "outputs": [],
   "source": [
    "import os\n",
    "def merge_all(cap_dict, train_dict, crawl_dict, weight_cap, weight_img):\n",
    "    result={}\n",
    "    for k, v in cap_dict.items():\n",
    "        img_id=os.path.splitext(k)[0]\n",
    "        result[img_id]=v\n",
    "        if k in train_dict:\n",
    "            for k_tr, v_tr in train_dict[k].items():\n",
    "                result[img_id][k_tr]=v_tr*weight_img\n",
    "        if k in crawl_dict:\n",
    "            for k_cr, v_cr in crawl_dict[k].items():\n",
    "                result[img_id][k_cr]=v_cr*weight_img\n",
    "    return result"
   ]
  },
  {
   "cell_type": "code",
   "execution_count": 27,
   "id": "e7ffeec7",
   "metadata": {},
   "outputs": [],
   "source": [
    "result = merge_all(ar_cap_sim_dic, ar_train_sim_norm, ar_crawl_sim_norm, 0, 1)"
   ]
  },
  {
   "cell_type": "code",
   "execution_count": 28,
   "id": "6ab52879",
   "metadata": {},
   "outputs": [
    {
     "name": "stdout",
     "output_type": "stream",
     "text": [
      "1915\n"
     ]
    }
   ],
   "source": [
    "print(len(result))"
   ]
  },
  {
   "cell_type": "code",
   "execution_count": 29,
   "id": "d8c5fcab",
   "metadata": {},
   "outputs": [
    {
     "name": "stdout",
     "output_type": "stream",
     "text": [
      "1915\n"
     ]
    }
   ],
   "source": [
    "final_result=norm_sim(result)"
   ]
  },
  {
   "cell_type": "code",
   "execution_count": 30,
   "id": "4511e142",
   "metadata": {},
   "outputs": [],
   "source": [
    "def sort_dict(input):\n",
    "    result={}\n",
    "    for k, v in input.items():\n",
    "        sort_v=dict(sorted(v.items(), key=lambda item: item[1], reverse=True))\n",
    "        result[k]=sort_v\n",
    "    return result"
   ]
  },
  {
   "cell_type": "code",
   "execution_count": 31,
   "id": "3f35f5c8",
   "metadata": {},
   "outputs": [],
   "source": [
    "sort_final_result=sort_dict(final_result)"
   ]
  },
  {
   "cell_type": "code",
   "execution_count": 33,
   "id": "5c9753a4",
   "metadata": {},
   "outputs": [],
   "source": [
    "f = open(\"final_final_result_1115_run2.txt\", \"a\")\n",
    "for key, value in sort_final_result.items():\n",
    "    result=key\n",
    "    for k,v in value.items():\n",
    "        result+=\"\\t\"+k+\"\\t\"+str(v)\n",
    "    f.write(result+\"\\n\")\n",
    "f.close()"
   ]
  },
  {
   "cell_type": "code",
   "execution_count": 28,
   "id": "44060208",
   "metadata": {},
   "outputs": [],
   "source": [
    "with open('all_results_by_articleID_and_imageID_with_similarity_score_andres.txt') as f:\n",
    "    next(f)\n",
    "    class_lines = f.readlines()"
   ]
  },
  {
   "cell_type": "code",
   "execution_count": 29,
   "id": "d7f957d6",
   "metadata": {},
   "outputs": [],
   "source": [
    "class_dict={}\n",
    "for line in class_lines:\n",
    "    line=line.strip()\n",
    "    segs=line.split(\",\")\n",
    "    if segs[0] not in class_dict:\n",
    "        class_dict[segs[0]]={}\n",
    "    for i in range(1, len(segs)):\n",
    "        if len(segs[i])>0:\n",
    "            img_id=segs[i].strip().split(\" \")[0]\n",
    "            score=segs[i].strip().split(\" \")[1].replace('(','').replace(')','')\n",
    "            class_dict[segs[0]][img_id]=float(score)"
   ]
  },
  {
   "cell_type": "code",
   "execution_count": 30,
   "id": "bb189ff3",
   "metadata": {},
   "outputs": [
    {
     "name": "stdout",
     "output_type": "stream",
     "text": [
      "1910\n"
     ]
    }
   ],
   "source": [
    "class_result_final=norm_sim(class_dict)"
   ]
  },
  {
   "cell_type": "code",
   "execution_count": 39,
   "id": "ec56a165",
   "metadata": {},
   "outputs": [],
   "source": [
    "def combine_all(sort_final_result, class_result_final):\n",
    "    result_comb={}\n",
    "    cnt=0\n",
    "    for key, value in sort_final_result.items():\n",
    "        result_comb[key]={}\n",
    "        for cap_k, cap_v in value.items():\n",
    "            img_id=os.path.splitext(cap_k)[0]\n",
    "            result_comb[key][img_id]=cap_v        \n",
    "        if key in class_dict:\n",
    "            for cap_k_in, cap_v_in in result_comb[key].items():\n",
    "                if cap_k_in in class_result_final[key]:\n",
    "                    cnt+=1\n",
    "                    sum=float(cap_v_in)+float(class_result_final[key][cap_k_in])\n",
    "                    result_comb[key][cap_k_in]=sum\n",
    "    print(cnt)\n",
    "    return result_comb"
   ]
  },
  {
   "cell_type": "code",
   "execution_count": 40,
   "id": "387b07e6",
   "metadata": {},
   "outputs": [
    {
     "name": "stdout",
     "output_type": "stream",
     "text": [
      "3625180\n"
     ]
    }
   ],
   "source": [
    "final_result=combine_all(sort_final_result, class_result_final)"
   ]
  },
  {
   "cell_type": "code",
   "execution_count": 42,
   "id": "2679e777",
   "metadata": {},
   "outputs": [],
   "source": [
    "sort_final_result=sort_dict(final_result)"
   ]
  },
  {
   "cell_type": "code",
   "execution_count": 45,
   "id": "65cab23e",
   "metadata": {},
   "outputs": [],
   "source": [
    "f = open(\"final_combine_result.txt\", \"a\")\n",
    "for key, value in sort_final_result.items():\n",
    "    result=key\n",
    "    for k,v in value.items():\n",
    "        result+=\"\\t\"+k+\":\"+str(v)\n",
    "    f.write(result+\"\\n\")\n",
    "f.close()"
   ]
  },
  {
   "cell_type": "code",
   "execution_count": 52,
   "id": "194b7706",
   "metadata": {},
   "outputs": [],
   "source": [
    "f = open(\"submission.tsv\", \"a\")\n",
    "header=\"particleID\"\n",
    "for i in range(100):\n",
    "    header+=\"\\t\"+\"iid\"+str(i+1)\n",
    "f.write(header+\"\\n\")\n",
    "for key, value in sort_final_result.items():\n",
    "    l=[*value]\n",
    "    l_100 = l[0:100]\n",
    "    l_join=key+\"\\t\"+'\\t'.join([str(x) for x in l_100])\n",
    "    f.write(l_join+\"\\n\")\n",
    "f.close()"
   ]
  }
 ],
 "metadata": {
  "kernelspec": {
   "display_name": "Python 3 (ipykernel)",
   "language": "python",
   "name": "python3"
  },
  "language_info": {
   "codemirror_mode": {
    "name": "ipython",
    "version": 3
   },
   "file_extension": ".py",
   "mimetype": "text/x-python",
   "name": "python",
   "nbconvert_exporter": "python",
   "pygments_lexer": "ipython3",
   "version": "3.8.10"
  }
 },
 "nbformat": 4,
 "nbformat_minor": 5
}
