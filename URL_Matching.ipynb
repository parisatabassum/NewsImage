{
 "cells": [
  {
   "cell_type": "markdown",
   "id": "75c268f0",
   "metadata": {},
   "source": [
    "## URL Matching\n",
    "We observe that image url  and text url pairs may have some explicit relationships. More specifically, an image url and a text url may be related if they contain common keywords. \n",
    "- tokenize both image urls and text urls\n",
    "- remove stop words from the tokens\n",
    "- an image url and a text url is considered to be matched if they one common token\n",
    "- The ranking of images is sorted by the number of total matched."
   ]
  },
  {
   "cell_type": "code",
   "execution_count": null,
   "id": "f7d7abbb",
   "metadata": {},
   "outputs": [],
   "source": [
    "img_id_name_dict={}\n",
    "with open('MediaEvalNewsImagesBatch04images.tsv') as file:\n",
    "    next(file)\n",
    "    lines = file.readlines()\n",
    "    lines = [line.rstrip() for line in lines]\n",
    "    for line in lines:\n",
    "        segs=line.split(\"\\t\")\n",
    "        if len(segs)<3:\n",
    "            break\n",
    "        img_id=segs[1]\n",
    "        img_name_full=segs[0].split(\"/\")\n",
    "        img_name=img_name_full[len(img_name_full)-1]\n",
    "        tokens=img_name.split(\".\")[0].split(\"-\")\n",
    "        tokens = [item for item in tokens if item.isalpha() and item!=\"null\"]\n",
    "        img_id_name_dict[img_id]=tokens"
   ]
  },
  {
   "cell_type": "code",
   "execution_count": null,
   "id": "1507d136",
   "metadata": {},
   "outputs": [],
   "source": [
    "print(len(img_id_name_dict))"
   ]
  },
  {
   "cell_type": "code",
   "execution_count": null,
   "id": "dec9f069",
   "metadata": {},
   "outputs": [],
   "source": [
    "with open('MediaEvalNewsImagesBatch04articles.tsv', encoding=\"utf8\") as file:\n",
    "    lines = file.readlines()\n",
    "    print(lines[0])\n",
    "    print(lines[1].split(\"\\t\")[2])"
   ]
  },
  {
   "cell_type": "code",
   "execution_count": null,
   "id": "d80578f6",
   "metadata": {},
   "outputs": [],
   "source": [
    "art_id_title_dict={}\n",
    "with open('MediaEvalNewsImagesBatch04articles.tsv', encoding=\"utf8\") as file:\n",
    "    next(file)\n",
    "    lines = file.readlines()\n",
    "    lines = [line.rstrip() for line in lines]\n",
    "    for line in lines:\n",
    "        segs=line.split(\"\\t\")\n",
    "        if len(segs)<3:\n",
    "            break\n",
    "        ar_id=segs[0]\n",
    "        ar_name_full=segs[6].split(\" \")\n",
    "        ar_name_full = [item for item in ar_name_full if item.isalpha() and item!=\"null\"]\n",
    "        art_id_title_dict[ar_id]=ar_name_full"
   ]
  },
  {
   "cell_type": "code",
   "execution_count": null,
   "id": "429c4423",
   "metadata": {},
   "outputs": [],
   "source": [
    "art_id_name_dict={}\n",
    "with open('MediaEvalNewsImagesBatch04articles.tsv', encoding=\"utf8\") as file:\n",
    "    next(file)\n",
    "    lines = file.readlines()\n",
    "    lines = [line.rstrip() for line in lines]\n",
    "    for line in lines:\n",
    "        segs=line.split(\"\\t\")\n",
    "        if len(segs)<3:\n",
    "            break\n",
    "        ar_id=segs[0]\n",
    "        ar_name_full=segs[2].split(\"/\")\n",
    "        ar_name=ar_name_full[len(ar_name_full)-1]\n",
    "        tokens=ar_name.split(\".\")[0].split(\"-\")\n",
    "        tokens = [item for item in tokens if item.isalpha() and item!=\"null\"]\n",
    "        art_id_name_dict[ar_id]=tokens"
   ]
  },
  {
   "cell_type": "code",
   "execution_count": null,
   "id": "58305685",
   "metadata": {},
   "outputs": [],
   "source": [
    "candidates={}\n",
    "filter = ['in', 'der', 'die', 'und', 'im', 'auf', 'mit', 'fuer', 'von', 'den', 'an', 'fc', 'das', 'am', 'vor', 'aus', 'dem', 'anfang', 'sich', 'bei', 'ein', 'des', 'zu', 'sind', 'eine', 'ueber', 'gegen', 'nach', 'ist']\n",
    "filter+=['zum','beim',\n",
    "'wird',\n",
    "'nrw',\n",
    "'nicht',\n",
    "'als',\n",
    "'mehr',\n",
    "'ab',\n",
    "'zur',\n",
    "'werden',\n",
    "'hat',\n",
    "'s',\n",
    "'wie',\n",
    "'einem',\n",
    "'auch',\n",
    "'e',\n",
    "'unter',\n",
    "'wieder',\n",
    "'vom',\n",
    "'so',\n",
    "'um',\n",
    "'noch',\n",
    "'will',\n",
    "'afd',\n",
    "'war',\n",
    "'strasse']\n",
    "def orig_relation(art_id_name_dict, img_id_name_dict):\n",
    "    total=0\n",
    "    result={}\n",
    "    for art_k, art_v in art_id_name_dict.items():\n",
    "        cnt=0\n",
    "        flag=False\n",
    "        \n",
    "        for img_k, img_v in img_id_name_dict.items():\n",
    "            common_elements = [x for x in art_v if x in img_v and x not in filter and len(x)>1 ]\n",
    "            if len(common_elements)>0:\n",
    "                if art_k not in result:\n",
    "                    result[art_k]=[]\n",
    "                result[art_k].append((img_k, len(common_elements)))\n",
    "                flag=True\n",
    "                cnt+=1\n",
    "                for ele in common_elements:\n",
    "                    if ele not in candidates:\n",
    "                        candidates[ele]=0\n",
    "                    candidates[ele]+=1\n",
    "        if flag:\n",
    "            total+=1\n",
    "    return result\n",
    "\n",
    "def relation(art_id_name_dict, img_id_name_dict):\n",
    "    total=0\n",
    "    result={}\n",
    "    for art_k, art_v in art_id_name_dict.items():\n",
    "        cnt=0\n",
    "        flag=False\n",
    "        \n",
    "        for img_k, img_v in img_id_name_dict.items():\n",
    "            common_elements = [x for x in art_v if x in img_v and x not in filter and len(x)>1 ]\n",
    "            if len(common_elements)>0:\n",
    "                print(art_k)\n",
    "                if art_k not in result:\n",
    "                    result[art_k]=[]\n",
    "                result[art_k].append((img_k, len(common_elements)))\n",
    "                print(img_k, common_elements)\n",
    "                flag=True\n",
    "                cnt+=1\n",
    "                for ele in common_elements:\n",
    "                    if ele not in candidates:\n",
    "                        candidates[ele]=0\n",
    "                    candidates[ele]+=1\n",
    "        if art_k in result:\n",
    "            temp_list=result[art_k]\n",
    "            temp_list.sort(key=lambda x:x[1], reverse=True)\n",
    "            result[art_k]=[i[0] for i in temp_list]\n",
    "            print(result[art_k])\n",
    "        print(cnt)\n",
    "        if flag:\n",
    "            total+=1\n",
    "    print(total, \" matches\")\n",
    "    return result"
   ]
  },
  {
   "cell_type": "code",
   "execution_count": null,
   "id": "29be0d51",
   "metadata": {},
   "outputs": [],
   "source": [
    "result = relation(art_id_name_dict, img_id_name_dict)"
   ]
  },
  {
   "cell_type": "code",
   "execution_count": null,
   "id": "ba396944",
   "metadata": {},
   "outputs": [],
   "source": [
    "print(result)\n",
    "print(len(result['1001935289']))\n",
    "#result1 = relation(art_id_title_dict, img_id_name_dict)"
   ]
  },
  {
   "cell_type": "code",
   "execution_count": null,
   "id": "167bf71e",
   "metadata": {},
   "outputs": [],
   "source": [
    "submission={}\n",
    "with open('submission_txstate_firewheel.tsv') as file:\n",
    "    next(file)\n",
    "    lines = file.readlines()\n",
    "    lines = [line.rstrip() for line in lines]\n",
    "    for line in lines:\n",
    "        segs=line.split(\"\\t\")\n",
    "        submission[segs[0]]=segs[1:]\n",
    "        print(len(submission[segs[0]]))"
   ]
  },
  {
   "cell_type": "code",
   "execution_count": null,
   "id": "fa5efeac",
   "metadata": {},
   "outputs": [],
   "source": [
    "print(submission)"
   ]
  },
  {
   "cell_type": "code",
   "execution_count": null,
   "id": "19a4fdcb",
   "metadata": {},
   "outputs": [],
   "source": [
    "cnt=0\n",
    "new_submission={}\n",
    "for s_id, s_value in submission.items():\n",
    "    if s_id in result:\n",
    "        diff_elements = [x for x in result[s_id] if x not in s_value ]\n",
    "        common_elements= [x for x in s_value if x in result[s_id] ]\n",
    "        tail_elements=s_value[len(s_value)-len(diff_elements):]\n",
    "        common_ele_in_tail=[x for x in common_elements if x in tail_elements]\n",
    "        if len(common_ele_in_tail)>0:\n",
    "            new_value=diff_elements+common_ele_in_tail+s_value[:len(s_value)-len(diff_elements)-len(common_ele_in_tail)]\n",
    "        else:\n",
    "            new_value=diff_elements+s_value[:len(s_value)-len(diff_elements)]\n",
    "        new_submission[s_id]= new_value\n",
    "\n",
    "    else:\n",
    "        new_submission[s_id]=s_value"
   ]
  },
  {
   "cell_type": "code",
   "execution_count": null,
   "id": "26767aa0",
   "metadata": {},
   "outputs": [],
   "source": [
    "print((result['1369955288']))\n",
    "print(len(new_submission['1369955288']))"
   ]
  },
  {
   "cell_type": "code",
   "execution_count": null,
   "id": "3ec11072",
   "metadata": {},
   "outputs": [],
   "source": [
    "for new_id, new_value in new_submission.items():\n",
    "    if new_id in result:\n",
    "        diff_elements = [x for x in result[new_id] if x not in new_value ]\n",
    "        if len(diff_elements)>0:\n",
    "            print(diff_elements[0] in result)\n",
    "            print(new_id)\n",
    "            print(diff_elements)"
   ]
  },
  {
   "cell_type": "code",
   "execution_count": null,
   "id": "75f1cb5e",
   "metadata": {},
   "outputs": [],
   "source": [
    "print ('136523' in new_submission['1369955288'])\n",
    "print ('135231' in result['1058395241'])"
   ]
  },
  {
   "cell_type": "code",
   "execution_count": null,
   "id": "cd216d2f",
   "metadata": {},
   "outputs": [],
   "source": [
    "with open('3rd_submission_txstate_firewheel.tsv', 'a') as the_file:\n",
    "    header=\"particleID\"\n",
    "    for i in range(100):\n",
    "        header+=\"\\t\"+\"iid\"+str(i+1)\n",
    "    the_file.write(header+\"\\n\")\n",
    "    for key, value in new_submission.items():\n",
    "        the_file.write(key+'\\t'+ \"\\t\".join(value)+\"\\n\")"
   ]
  }
 ],
 "metadata": {
  "kernelspec": {
   "display_name": "Python 3 (ipykernel)",
   "language": "python",
   "name": "python3"
  },
  "language_info": {
   "codemirror_mode": {
    "name": "ipython",
    "version": 3
   },
   "file_extension": ".py",
   "mimetype": "text/x-python",
   "name": "python",
   "nbconvert_exporter": "python",
   "pygments_lexer": "ipython3",
   "version": "3.8.10"
  }
 },
 "nbformat": 4,
 "nbformat_minor": 5
}
